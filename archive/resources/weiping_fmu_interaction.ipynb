{
 "cells": [
  {
   "cell_type": "code",
   "execution_count": null,
   "id": "1ffb22ab",
   "metadata": {},
   "outputs": [],
   "source": [
    "import numpy as np\n",
    "import json\n",
    "import pandas as pd\n",
    "import copy\n",
    "import datetime\n",
    "import matplotlib.pyplot as plt\n",
    "import seaborn\n",
    "import timeit\n",
    "import pickle\n",
    "import time\n",
    "from pyfmi import load_fmu\n",
    "import scipy\n",
    "import sys\n",
    "import os\n"
   ]
  },
  {
   "cell_type": "markdown",
   "id": "15ef9cef",
   "metadata": {},
   "source": [
    "# User Inputs"
   ]
  },
  {
   "cell_type": "code",
   "execution_count": null,
   "id": "7a200658",
   "metadata": {},
   "outputs": [],
   "source": [
    "# User inputs can be entered here\n",
    "weather_filename='weather_KABQ.csv'\n",
    "price_filename='CFH_Prices.csv'\n",
    "fmu_name='R32AirToWaterHeatPumpWithTank'\n",
    "#fmu_name='R32AirToWaterHeatPumpWithThermalStorage'\n"
   ]
  },
  {
   "cell_type": "code",
   "execution_count": null,
   "id": "8092905b",
   "metadata": {},
   "outputs": [],
   "source": [
    "start_time=10000\n",
    "final_time=11800\n",
    "step_size = 600\n",
    "data_interval_length=60"
   ]
  },
  {
   "cell_type": "markdown",
   "id": "98cb894f",
   "metadata": {},
   "source": [
    "# System Configuration "
   ]
  },
  {
   "cell_type": "code",
   "execution_count": null,
   "id": "87041210",
   "metadata": {},
   "outputs": [],
   "source": [
    "fmu_path=f'FmuModels/{fmu_name}/{fmu_name}.fmu'\n",
    "fmu_data_points_path=f\"FmuModels/{fmu_name}/{fmu_name}_data_points.csv\""
   ]
  },
  {
   "cell_type": "code",
   "execution_count": null,
   "id": "12a58beb",
   "metadata": {},
   "outputs": [],
   "source": [
    "sys.path.append(os.path.join(sys.path[0],'FmuModels',fmu_name))"
   ]
  },
  {
   "cell_type": "code",
   "execution_count": null,
   "id": "f7655bfb",
   "metadata": {},
   "outputs": [],
   "source": [
    "exec(f'from {fmu_name}_Controller import MyController')\n",
    "my_controller=MyController()\n"
   ]
  },
  {
   "cell_type": "markdown",
   "id": "315736c8",
   "metadata": {},
   "source": [
    "# Display a list of all data points from the FMU"
   ]
  },
  {
   "cell_type": "code",
   "execution_count": null,
   "id": "488cd99b",
   "metadata": {},
   "outputs": [],
   "source": [
    "dataPointsFmu = pd.read_csv(fmu_data_points_path)\n",
    "dataPointsFmu=dataPointsFmu[[\"points\",\"keys\",\"writable_point\",'initial_value','descriptions']]\n",
    "dataPointsFmu"
   ]
  },
  {
   "cell_type": "markdown",
   "id": "ef450e00",
   "metadata": {},
   "source": [
    "# Load Weather Data"
   ]
  },
  {
   "cell_type": "code",
   "execution_count": null,
   "id": "fc43919c",
   "metadata": {},
   "outputs": [],
   "source": [
    "df_weather = pd.read_csv(os.path.join(os.getcwd(), '..', '..', 'resources', 'weather', weather_filename), parse_dates = True)\n",
    "df_weather"
   ]
  },
  {
   "cell_type": "markdown",
   "id": "bf717e1c",
   "metadata": {},
   "source": [
    "# Load Price Data"
   ]
  },
  {
   "cell_type": "code",
   "execution_count": null,
   "id": "43f45571",
   "metadata": {},
   "outputs": [],
   "source": [
    "df_price = pd.read_csv(os.path.join(os.getcwd(), '..', '..', 'resources', 'electricity_prices', price_filename), parse_dates = True)\n",
    "df_price"
   ]
  },
  {
   "cell_type": "markdown",
   "id": "97d45197",
   "metadata": {},
   "source": [
    "# Load FMU"
   ]
  },
  {
   "cell_type": "code",
   "execution_count": null,
   "id": "648d27cf",
   "metadata": {},
   "outputs": [],
   "source": [
    "model = load_fmu(fmu_path)"
   ]
  },
  {
   "cell_type": "code",
   "execution_count": null,
   "id": "e54eeda6",
   "metadata": {},
   "outputs": [],
   "source": [
    "#variable_values = dict(zip(dataPointsFmu['points'], dataPointsFmu['initial_value']))\n",
    "#set(variable_values.keys())\n",
    "#variable_values"
   ]
  },
  {
   "cell_type": "markdown",
   "id": "51aef538",
   "metadata": {},
   "source": [
    "# Create FMU simulation"
   ]
  },
  {
   "cell_type": "code",
   "execution_count": null,
   "id": "a06b256b",
   "metadata": {},
   "outputs": [],
   "source": [
    "current_time=start_time\n",
    "iteration=1\n",
    "variable_values = dict(zip(dataPointsFmu['points'], dataPointsFmu['initial_value']))\n",
    "\n",
    "while current_time+step_size <= final_time:\n",
    "    \n",
    "    global variable_values\n",
    "\n",
    "    current_iteration_start_time=current_time\n",
    "    current_iteration_final_time=current_time+step_size\n",
    "    \n",
    "\n",
    "    # call the controller\n",
    "    current_inputs_dict=my_controller.controllerFunction(current_iteration_start_time, current_iteration_final_time, variable_values, df_weather, df_price)  \n",
    "\n",
    "\n",
    "    \n",
    "    \n",
    "    \n",
    "    \n",
    "    # Sample list of names\n",
    "    points_list = list(current_inputs_dict.keys())\n",
    "\n",
    "    # Filter the DataFrame to select rows where \"names\" match the names in name_list\n",
    "    filtered_dataPointsFmu = dataPointsFmu[dataPointsFmu['points'].isin(points_list)]\n",
    "\n",
    "    # Extract the \"keys\" column from the filtered DataFrame and convert it to a Python list\n",
    "    keys_list = filtered_dataPointsFmu['keys'].tolist()\n",
    "\n",
    "    current_inputs_dict_processed = dict(zip(keys_list, list(current_inputs_dict.values())))\n",
    "    current_inputs_dict_processed\n",
    "\n",
    "    inputs = (\n",
    "        list(current_inputs_dict_processed), \n",
    "        np.array(\n",
    "            [[current_iteration_start_time]+list(current_inputs_dict_processed.values()),\n",
    "             [current_iteration_final_time]+list(current_inputs_dict_processed.values())]\n",
    "        )\n",
    "    )    \n",
    "    \n",
    "    \n",
    "    \n",
    "    \n",
    "    \n",
    "    \n",
    "    if iteration==1:\n",
    "        opts = model.simulate_options()\n",
    "        opts[\"ncp\"] = (current_iteration_final_time-current_iteration_start_time)/data_interval_length\n",
    "    else:\n",
    "        state = model.get_fmu_state()\n",
    "        opts['initialize'] = False\n",
    "        opts[\"ncp\"] = (current_iteration_final_time-current_iteration_start_time)/data_interval_length\n",
    "        model.set_fmu_state(state)\n",
    "        \n",
    "\n",
    "\n",
    "    res = model.simulate(start_time=current_iteration_start_time, final_time=current_iteration_final_time,input=inputs, options=opts)\n",
    "    \n",
    "    !python FmuSimulationConfigFiles/MAT_to_CSV_conversion.py {fmu_name+'_result.mat'} {fmu_data_points_path}\n",
    "    if iteration==1:\n",
    "        df = pd.read_csv(fmu_name+'_result.csv')\n",
    "    else:\n",
    "        df_current = pd.read_csv(fmu_name+'_result.csv')\n",
    "        df_current=df_current.tail(-1)\n",
    "        df=pd.concat([df, df_current], ignore_index=True)\n",
    "    \n",
    "    \n",
    "    variable_values=df.iloc[-1].drop(labels=['Unnamed: 0','time']).to_dict()\n",
    "\n",
    "    \n",
    "    iteration+=1\n",
    "    current_time += step_size"
   ]
  },
  {
   "cell_type": "code",
   "execution_count": null,
   "id": "22de8acc",
   "metadata": {},
   "outputs": [],
   "source": []
  },
  {
   "cell_type": "code",
   "execution_count": null,
   "id": "651dbd82",
   "metadata": {},
   "outputs": [],
   "source": [
    "\n",
    "df=df.drop(['Unnamed: 0'], axis=1)\n"
   ]
  },
  {
   "cell_type": "code",
   "execution_count": null,
   "id": "d104c935",
   "metadata": {},
   "outputs": [],
   "source": [
    "try:\n",
    "    os.remove(fmu_name+'_result.mat')\n",
    "except:\n",
    "    pass\n",
    "\n",
    "try:\n",
    "    os.remove(fmu_name+'_result.csv')\n",
    "except:\n",
    "    pass\n",
    "try:\n",
    "    os.remove(fmu_name+'_log.txt')\n",
    "except:\n",
    "    pass"
   ]
  },
  {
   "cell_type": "markdown",
   "id": "7fa35f3e",
   "metadata": {},
   "source": [
    "# Simulation Result Table"
   ]
  },
  {
   "cell_type": "code",
   "execution_count": null,
   "id": "06a3ca10",
   "metadata": {},
   "outputs": [],
   "source": [
    "df"
   ]
  },
  {
   "cell_type": "markdown",
   "id": "6b6a4ea7",
   "metadata": {},
   "source": [
    "# Available data points for plotting"
   ]
  },
  {
   "cell_type": "code",
   "execution_count": null,
   "id": "825c5f0b",
   "metadata": {},
   "outputs": [],
   "source": [
    "df.dtypes"
   ]
  },
  {
   "cell_type": "code",
   "execution_count": null,
   "id": "427f2a9e",
   "metadata": {},
   "outputs": [],
   "source": [
    "\"\"\"\n",
    "fig, (ax) = plt.subplots(nrows = 1, ncols = 1,figsize = (16,10))\n",
    "\n",
    "\n",
    "ax.plot(df['time'],df['Tank Water Temperature Layer 1 [deg-K]'], label = 'Tank Water Temperature Layer 1 [deg-K]')\n",
    "ax.plot(df['time'],df['Tank Water Temperature Layer 2 [deg-K]'], label = 'Tank Water Temperature Layer 2 [deg-K]')\n",
    "ax.plot(df['time'],df['Tank Water Temperature Layer 3 [deg-K]'], label = 'Tank Water Temperature Layer 3 [deg-K]')\n",
    "ax.plot(df['time'],df['Tank Water Temperature Layer 4 [deg-K]'], label = 'Tank Water Temperature Layer 4 [deg-K]')\n",
    "ax.plot(df['time'],df['Tank Water Temperature Layer 5 [deg-K]'], label = 'Tank Water Temperature Layer 5 [deg-K]')\n",
    "\n",
    "\n",
    "ax.set_xlabel('Time', fontsize = 17)\n",
    "ax.set_ylabel('Temperature', fontsize = 17)\n",
    "ax.legend(fontsize = 15)\n",
    "\n",
    "ax.set_title('Temperature', fontsize = 18)\n",
    "\"\"\""
   ]
  },
  {
   "cell_type": "code",
   "execution_count": null,
   "id": "954dcff0",
   "metadata": {},
   "outputs": [],
   "source": []
  }
 ],
 "metadata": {
  "kernelspec": {
   "display_name": "Python 3 (ipykernel)",
   "language": "python",
   "name": "python3"
  },
  "language_info": {
   "codemirror_mode": {
    "name": "ipython",
    "version": 3
   },
   "file_extension": ".py",
   "mimetype": "text/x-python",
   "name": "python",
   "nbconvert_exporter": "python",
   "pygments_lexer": "ipython3",
   "version": "3.8.11"
  }
 },
 "nbformat": 4,
 "nbformat_minor": 5
}
