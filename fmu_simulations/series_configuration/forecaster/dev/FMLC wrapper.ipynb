{
 "cells": [
  {
   "cell_type": "code",
   "execution_count": 1,
   "id": "ecac2f41",
   "metadata": {},
   "outputs": [],
   "source": [
    "import sys\n",
    "import os\n",
    "import logging\n",
    "import pandas as pd\n",
    "import numpy as np\n",
    "import json\n",
    "from fmlc import eFMU\n",
    "\n",
    "logging.basicConfig(\n",
    "    format='%(asctime)s %(levelname)-8s %(message)s',\n",
    "    level=logging.INFO,\n",
    "    datefmt='%Y-%m-%d %H:%M:%S')"
   ]
  },
  {
   "cell_type": "code",
   "execution_count": 2,
   "id": "c45fd03d",
   "metadata": {},
   "outputs": [],
   "source": [
    "# Append src directory to import forecaster library files\n",
    "sys.path.append('../src')\n",
    "\n",
    "import fcSelector\n",
    "import fcLib"
   ]
  },
  {
   "cell_type": "code",
   "execution_count": 3,
   "id": "ab51973d",
   "metadata": {},
   "outputs": [],
   "source": [
    "class ForecasterWrapper(eFMU):\n",
    "    def __init__(self):\n",
    "        self.input = {\n",
    "            'training-data':None, \n",
    "            'fcList':None, \n",
    "            'input-data': None\n",
    "        }      \n",
    "        \n",
    "        self.output = {\n",
    "            'model-summary': None,\n",
    "            'output-data': None,\n",
    "        }\n",
    "        \n",
    "        # initialize selector and forecaster attributes\n",
    "        self.framework = None\n",
    "        self.bestModel = None\n",
    "        self.bestScore = None\n",
    "        self.bestModelName = None\n",
    "        \n",
    "        # initialize selected forecaster prediction\n",
    "        self.fcPrediction = None\n",
    "        \n",
    "        self.msg = None\n",
    "       \n",
    "    def compute(self):\n",
    "        \n",
    "        # initialize msg to return\n",
    "        self.msg = None\n",
    "        self.newPrediction = False\n",
    "\n",
    "        # initialize forecastor selection framwork\n",
    "        self.framework = fcSelector.ForecasterFramework(data=self.input['training-data'], fcList=self.input['fcList'])\n",
    "\n",
    "        # if framework selection has not been made, run evaluate method\n",
    "        if self.bestModel is None:\n",
    "        \n",
    "            # if model hasn't been selected yet, run evaluate method\n",
    "            try:\n",
    "                self.framework.evaluateAll()\n",
    "\n",
    "                # unpack framework attributes to wrapper\n",
    "                self.bestModel = self.framework.bestModel\n",
    "                self.bestScore = self.framework.bestScore\n",
    "                self.bestModelName = self.framework.bestModelName\n",
    "             \n",
    "            except Exception as e:\n",
    "                #logging.error(e)\n",
    "                self.msg = 'ERROR: Failed to train forecasters in fc list' + str(e)\n",
    "            \n",
    "        # run prediction on fcData if passed\n",
    "        if self.input['input-data'] is not None:\n",
    "            try:\n",
    "                # run prediction method of best \n",
    "                self.fcPrediction = self.bestModel.predict(self.input['input-data'])\n",
    "                \n",
    "                self.newPrediction = True\n",
    "\n",
    "            except Exception as e:\n",
    "                #logging.error(e)\n",
    "                self.msg = 'ERROR: Failed to generate new prediction' + str(e)\n",
    "    \n",
    "        # package results into self.output\n",
    "        self.output['model-summary'] = {\n",
    "            'bestModelName': self.bestModelName,\n",
    "            'bestScore': self.bestScore\n",
    "        }\n",
    "        \n",
    "        if self.newPrediction:\n",
    "            self.output['output-data'] = self.fcPrediction.tolist() #json.dumps(self.fcPrediction.__dict__)\n",
    "            \n",
    "        # data management wrapper or data mgmt in this class\n",
    "\n",
    "        # if no msg has been define, default to Done\n",
    "        if self.msg is None:\n",
    "             self.msg = 'Done.'\n",
    "        \n",
    "        # Return status message\n",
    "        return self.msg\n"
   ]
  },
  {
   "cell_type": "markdown",
   "id": "ec9cc8fb",
   "metadata": {},
   "source": [
    "#### Test FC Selector Wrapper"
   ]
  },
  {
   "cell_type": "code",
   "execution_count": 4,
   "id": "38bb99ed",
   "metadata": {},
   "outputs": [
    {
     "data": {
      "text/plain": [
       "\"ERROR: Failed to generate new prediction'NoneType' object has no attribute 'predict'\""
      ]
     },
     "execution_count": 4,
     "metadata": {},
     "output_type": "execute_result"
    }
   ],
   "source": [
    "cwd = os.getcwd()\n",
    "file = '../resources/data/sample_data.csv'\n",
    "path = os.path.join(cwd, file)\n",
    "\n",
    "data = pd.read_csv(path)\n",
    "data = data.rename(columns={'OAT': 'TDryBul'})\n",
    "\n",
    "data['occ mode'] = np.where(data['Power (kW)'] == 1, 'unocc', 'occ')\n",
    "\n",
    "X = data[['Time of Week (hr)', 'TDryBul (deg C)']]\n",
    "y = data['Power (kW)']\n",
    "\n",
    "# package data for framework\n",
    "trainData = {\n",
    "    'X': X,\n",
    "    'y': y\n",
    "}\n",
    "\n",
    "# define an example fcList: forecaster names and parameters\n",
    "fcList = [\n",
    "    {\n",
    "        'fun': fcLib.forecasters['random forest pipeline']['fun'],\n",
    "        'parameter': fcLib.forecasters['random forest pipeline']['parameter']\n",
    "    },\n",
    "    {\n",
    "        'fun': fcLib.forecasters['sarimax']['fun'],\n",
    "        'parameter': fcLib.forecasters['sarimax']['parameter']\n",
    "    },\n",
    "    {\n",
    "        'fun': fcLib.forecasters['tuned-Total mlp']['fun'],\n",
    "        'parameter': fcLib.forecasters['tuned-Total mlp']['parameter']\n",
    "    },\n",
    "    {\n",
    "        'fun': fcLib.forecasters['tuned-Total mlp']['fun'],\n",
    "        'parameter': fcLib.forecasters['tuned-Total mlp']['parameter']\n",
    "    },\n",
    "]\n",
    "\n",
    "input = {\n",
    "    'training-data':trainData, \n",
    "    'fcList': fcList, \n",
    "    'input-data': X\n",
    "}\n",
    "\n",
    "# instantiate forecast framework wrapper\n",
    "newWrapper = ForecasterWrapper()\n",
    "\n",
    "# pass inputs\n",
    "newWrapper.input = input\n",
    "\n",
    "# run compute method to train and predict\n",
    "newWrapper.compute()"
   ]
  },
  {
   "cell_type": "code",
   "execution_count": 5,
   "id": "a0784316",
   "metadata": {},
   "outputs": [
    {
     "ename": "KeyError",
     "evalue": "'fcPrediction'",
     "output_type": "error",
     "traceback": [
      "\u001b[0;31m---------------------------------------------------------------------------\u001b[0m",
      "\u001b[0;31mKeyError\u001b[0m                                  Traceback (most recent call last)",
      "Input \u001b[0;32mIn [5]\u001b[0m, in \u001b[0;36m<cell line: 1>\u001b[0;34m()\u001b[0m\n\u001b[0;32m----> 1\u001b[0m \u001b[43mnewWrapper\u001b[49m\u001b[38;5;241;43m.\u001b[39;49m\u001b[43moutput\u001b[49m\u001b[43m[\u001b[49m\u001b[38;5;124;43m'\u001b[39;49m\u001b[38;5;124;43mfcPrediction\u001b[39;49m\u001b[38;5;124;43m'\u001b[39;49m\u001b[43m]\u001b[49m\n",
      "\u001b[0;31mKeyError\u001b[0m: 'fcPrediction'"
     ]
    }
   ],
   "source": [
    "newWrapper.output['fcPrediction']"
   ]
  },
  {
   "cell_type": "code",
   "execution_count": null,
   "id": "8ba771f9",
   "metadata": {},
   "outputs": [],
   "source": []
  }
 ],
 "metadata": {
  "kernelspec": {
   "display_name": "Python 3 (ipykernel)",
   "language": "python",
   "name": "python3"
  },
  "language_info": {
   "codemirror_mode": {
    "name": "ipython",
    "version": 3
   },
   "file_extension": ".py",
   "mimetype": "text/x-python",
   "name": "python",
   "nbconvert_exporter": "python",
   "pygments_lexer": "ipython3",
   "version": "3.8.13"
  }
 },
 "nbformat": 4,
 "nbformat_minor": 5
}
