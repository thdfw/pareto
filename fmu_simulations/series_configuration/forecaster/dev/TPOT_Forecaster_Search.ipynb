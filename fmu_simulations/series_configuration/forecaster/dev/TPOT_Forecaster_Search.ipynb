{
 "cells": [
  {
   "cell_type": "code",
   "execution_count": 3,
   "id": "b7f8c130",
   "metadata": {},
   "outputs": [
    {
     "data": {
      "text/html": [
       "<div>\n",
       "<style scoped>\n",
       "    .dataframe tbody tr th:only-of-type {\n",
       "        vertical-align: middle;\n",
       "    }\n",
       "\n",
       "    .dataframe tbody tr th {\n",
       "        vertical-align: top;\n",
       "    }\n",
       "\n",
       "    .dataframe thead th {\n",
       "        text-align: right;\n",
       "    }\n",
       "</style>\n",
       "<table border=\"1\" class=\"dataframe\">\n",
       "  <thead>\n",
       "    <tr style=\"text-align: right;\">\n",
       "      <th></th>\n",
       "      <th>Tamb_forecast_1</th>\n",
       "      <th>Tamb_forecast_2</th>\n",
       "      <th>Tamb_forecast_3</th>\n",
       "      <th>Tamb_forecast_4</th>\n",
       "      <th>Tamb_forecast_5</th>\n",
       "      <th>Tamb_forecast_6</th>\n",
       "      <th>Tamb_forecast_7</th>\n",
       "      <th>Tamb_forecast_8</th>\n",
       "      <th>Tamb_forecast_9</th>\n",
       "      <th>Tamb_forecast_10</th>\n",
       "      <th>...</th>\n",
       "      <th>Ppv_forecast_14</th>\n",
       "      <th>Ppv_forecast_15</th>\n",
       "      <th>Ppv_forecast_16</th>\n",
       "      <th>Ppv_forecast_17</th>\n",
       "      <th>Ppv_forecast_18</th>\n",
       "      <th>Ppv_forecast_19</th>\n",
       "      <th>Ppv_forecast_20</th>\n",
       "      <th>Ppv_forecast_21</th>\n",
       "      <th>Ppv_forecast_22</th>\n",
       "      <th>Ppv_forecast_23</th>\n",
       "    </tr>\n",
       "  </thead>\n",
       "  <tbody>\n",
       "    <tr>\n",
       "      <th>2018-07-20 23:00:00</th>\n",
       "      <td>16.1</td>\n",
       "      <td>15.6</td>\n",
       "      <td>15.6</td>\n",
       "      <td>15.6</td>\n",
       "      <td>15.0</td>\n",
       "      <td>14.4</td>\n",
       "      <td>14.4</td>\n",
       "      <td>14.4</td>\n",
       "      <td>14.4</td>\n",
       "      <td>15.6</td>\n",
       "      <td>...</td>\n",
       "      <td>2586.524348</td>\n",
       "      <td>2466.131190</td>\n",
       "      <td>2191.011433</td>\n",
       "      <td>1733.403675</td>\n",
       "      <td>1144.791610</td>\n",
       "      <td>462.429508</td>\n",
       "      <td>144.616928</td>\n",
       "      <td>3.234688</td>\n",
       "      <td>0.000000</td>\n",
       "      <td>12.760208</td>\n",
       "    </tr>\n",
       "    <tr>\n",
       "      <th>2018-07-21 00:00:00</th>\n",
       "      <td>15.6</td>\n",
       "      <td>15.6</td>\n",
       "      <td>15.6</td>\n",
       "      <td>15.0</td>\n",
       "      <td>14.4</td>\n",
       "      <td>14.4</td>\n",
       "      <td>14.4</td>\n",
       "      <td>14.4</td>\n",
       "      <td>15.6</td>\n",
       "      <td>16.7</td>\n",
       "      <td>...</td>\n",
       "      <td>2466.131190</td>\n",
       "      <td>2191.011433</td>\n",
       "      <td>1733.403675</td>\n",
       "      <td>1144.791610</td>\n",
       "      <td>462.429508</td>\n",
       "      <td>144.616928</td>\n",
       "      <td>3.234688</td>\n",
       "      <td>0.000000</td>\n",
       "      <td>12.760208</td>\n",
       "      <td>1.048312</td>\n",
       "    </tr>\n",
       "    <tr>\n",
       "      <th>2018-07-21 01:00:00</th>\n",
       "      <td>15.6</td>\n",
       "      <td>15.6</td>\n",
       "      <td>15.0</td>\n",
       "      <td>14.4</td>\n",
       "      <td>14.4</td>\n",
       "      <td>14.4</td>\n",
       "      <td>14.4</td>\n",
       "      <td>15.6</td>\n",
       "      <td>16.7</td>\n",
       "      <td>18.3</td>\n",
       "      <td>...</td>\n",
       "      <td>2191.011433</td>\n",
       "      <td>1733.403675</td>\n",
       "      <td>1144.791610</td>\n",
       "      <td>462.429508</td>\n",
       "      <td>144.616928</td>\n",
       "      <td>3.234688</td>\n",
       "      <td>0.000000</td>\n",
       "      <td>12.760208</td>\n",
       "      <td>1.048312</td>\n",
       "      <td>0.000000</td>\n",
       "    </tr>\n",
       "    <tr>\n",
       "      <th>2018-07-21 02:00:00</th>\n",
       "      <td>15.6</td>\n",
       "      <td>15.0</td>\n",
       "      <td>14.4</td>\n",
       "      <td>14.4</td>\n",
       "      <td>14.4</td>\n",
       "      <td>14.4</td>\n",
       "      <td>15.6</td>\n",
       "      <td>16.7</td>\n",
       "      <td>18.3</td>\n",
       "      <td>20.0</td>\n",
       "      <td>...</td>\n",
       "      <td>1733.403675</td>\n",
       "      <td>1144.791610</td>\n",
       "      <td>462.429508</td>\n",
       "      <td>144.616928</td>\n",
       "      <td>3.234688</td>\n",
       "      <td>0.000000</td>\n",
       "      <td>12.760208</td>\n",
       "      <td>1.048312</td>\n",
       "      <td>0.000000</td>\n",
       "      <td>1.322876</td>\n",
       "    </tr>\n",
       "    <tr>\n",
       "      <th>2018-07-21 03:00:00</th>\n",
       "      <td>15.0</td>\n",
       "      <td>14.4</td>\n",
       "      <td>14.4</td>\n",
       "      <td>14.4</td>\n",
       "      <td>14.4</td>\n",
       "      <td>15.6</td>\n",
       "      <td>16.7</td>\n",
       "      <td>18.3</td>\n",
       "      <td>20.0</td>\n",
       "      <td>21.1</td>\n",
       "      <td>...</td>\n",
       "      <td>1144.791610</td>\n",
       "      <td>462.429508</td>\n",
       "      <td>144.616928</td>\n",
       "      <td>3.234688</td>\n",
       "      <td>0.000000</td>\n",
       "      <td>12.760208</td>\n",
       "      <td>1.048312</td>\n",
       "      <td>0.000000</td>\n",
       "      <td>1.322876</td>\n",
       "      <td>5.421722</td>\n",
       "    </tr>\n",
       "    <tr>\n",
       "      <th>...</th>\n",
       "      <td>...</td>\n",
       "      <td>...</td>\n",
       "      <td>...</td>\n",
       "      <td>...</td>\n",
       "      <td>...</td>\n",
       "      <td>...</td>\n",
       "      <td>...</td>\n",
       "      <td>...</td>\n",
       "      <td>...</td>\n",
       "      <td>...</td>\n",
       "      <td>...</td>\n",
       "      <td>...</td>\n",
       "      <td>...</td>\n",
       "      <td>...</td>\n",
       "      <td>...</td>\n",
       "      <td>...</td>\n",
       "      <td>...</td>\n",
       "      <td>...</td>\n",
       "      <td>...</td>\n",
       "      <td>...</td>\n",
       "      <td>...</td>\n",
       "    </tr>\n",
       "    <tr>\n",
       "      <th>2018-08-29 20:00:00</th>\n",
       "      <td>15.0</td>\n",
       "      <td>14.4</td>\n",
       "      <td>13.9</td>\n",
       "      <td>13.3</td>\n",
       "      <td>13.3</td>\n",
       "      <td>13.3</td>\n",
       "      <td>13.3</td>\n",
       "      <td>13.3</td>\n",
       "      <td>13.3</td>\n",
       "      <td>12.8</td>\n",
       "      <td>...</td>\n",
       "      <td>710.042912</td>\n",
       "      <td>1005.350732</td>\n",
       "      <td>1210.813040</td>\n",
       "      <td>1912.391214</td>\n",
       "      <td>2296.034456</td>\n",
       "      <td>1917.820778</td>\n",
       "      <td>1463.605638</td>\n",
       "      <td>831.925101</td>\n",
       "      <td>263.982510</td>\n",
       "      <td>13.276272</td>\n",
       "    </tr>\n",
       "    <tr>\n",
       "      <th>2018-08-29 21:00:00</th>\n",
       "      <td>14.4</td>\n",
       "      <td>13.9</td>\n",
       "      <td>13.3</td>\n",
       "      <td>13.3</td>\n",
       "      <td>13.3</td>\n",
       "      <td>13.3</td>\n",
       "      <td>13.3</td>\n",
       "      <td>13.3</td>\n",
       "      <td>12.8</td>\n",
       "      <td>12.8</td>\n",
       "      <td>...</td>\n",
       "      <td>1005.350732</td>\n",
       "      <td>1210.813040</td>\n",
       "      <td>1912.391214</td>\n",
       "      <td>2296.034456</td>\n",
       "      <td>1917.820778</td>\n",
       "      <td>1463.605638</td>\n",
       "      <td>831.925101</td>\n",
       "      <td>263.982510</td>\n",
       "      <td>13.276272</td>\n",
       "      <td>0.000000</td>\n",
       "    </tr>\n",
       "    <tr>\n",
       "      <th>2018-08-29 22:00:00</th>\n",
       "      <td>13.9</td>\n",
       "      <td>13.3</td>\n",
       "      <td>13.3</td>\n",
       "      <td>13.3</td>\n",
       "      <td>13.3</td>\n",
       "      <td>13.3</td>\n",
       "      <td>13.3</td>\n",
       "      <td>12.8</td>\n",
       "      <td>12.8</td>\n",
       "      <td>12.8</td>\n",
       "      <td>...</td>\n",
       "      <td>1210.813040</td>\n",
       "      <td>1912.391214</td>\n",
       "      <td>2296.034456</td>\n",
       "      <td>1917.820778</td>\n",
       "      <td>1463.605638</td>\n",
       "      <td>831.925101</td>\n",
       "      <td>263.982510</td>\n",
       "      <td>13.276272</td>\n",
       "      <td>0.000000</td>\n",
       "      <td>1.297032</td>\n",
       "    </tr>\n",
       "    <tr>\n",
       "      <th>2018-08-29 23:00:00</th>\n",
       "      <td>13.3</td>\n",
       "      <td>13.3</td>\n",
       "      <td>13.3</td>\n",
       "      <td>13.3</td>\n",
       "      <td>13.3</td>\n",
       "      <td>13.3</td>\n",
       "      <td>12.8</td>\n",
       "      <td>12.8</td>\n",
       "      <td>12.8</td>\n",
       "      <td>13.3</td>\n",
       "      <td>...</td>\n",
       "      <td>1912.391214</td>\n",
       "      <td>2296.034456</td>\n",
       "      <td>1917.820778</td>\n",
       "      <td>1463.605638</td>\n",
       "      <td>831.925101</td>\n",
       "      <td>263.982510</td>\n",
       "      <td>13.276272</td>\n",
       "      <td>0.000000</td>\n",
       "      <td>1.297032</td>\n",
       "      <td>0.000000</td>\n",
       "    </tr>\n",
       "    <tr>\n",
       "      <th>2018-08-30 00:00:00</th>\n",
       "      <td>13.3</td>\n",
       "      <td>13.3</td>\n",
       "      <td>13.3</td>\n",
       "      <td>13.3</td>\n",
       "      <td>12.8</td>\n",
       "      <td>12.8</td>\n",
       "      <td>12.8</td>\n",
       "      <td>13.3</td>\n",
       "      <td>13.9</td>\n",
       "      <td>15.0</td>\n",
       "      <td>...</td>\n",
       "      <td>2296.034456</td>\n",
       "      <td>1917.820778</td>\n",
       "      <td>1463.605638</td>\n",
       "      <td>831.925101</td>\n",
       "      <td>263.982510</td>\n",
       "      <td>13.276272</td>\n",
       "      <td>0.000000</td>\n",
       "      <td>1.297032</td>\n",
       "      <td>0.000000</td>\n",
       "      <td>0.000000</td>\n",
       "    </tr>\n",
       "  </tbody>\n",
       "</table>\n",
       "<p>798 rows × 115 columns</p>\n",
       "</div>"
      ],
      "text/plain": [
       "                     Tamb_forecast_1  Tamb_forecast_2  Tamb_forecast_3  \\\n",
       "2018-07-20 23:00:00             16.1             15.6             15.6   \n",
       "2018-07-21 00:00:00             15.6             15.6             15.6   \n",
       "2018-07-21 01:00:00             15.6             15.6             15.0   \n",
       "2018-07-21 02:00:00             15.6             15.0             14.4   \n",
       "2018-07-21 03:00:00             15.0             14.4             14.4   \n",
       "...                              ...              ...              ...   \n",
       "2018-08-29 20:00:00             15.0             14.4             13.9   \n",
       "2018-08-29 21:00:00             14.4             13.9             13.3   \n",
       "2018-08-29 22:00:00             13.9             13.3             13.3   \n",
       "2018-08-29 23:00:00             13.3             13.3             13.3   \n",
       "2018-08-30 00:00:00             13.3             13.3             13.3   \n",
       "\n",
       "                     Tamb_forecast_4  Tamb_forecast_5  Tamb_forecast_6  \\\n",
       "2018-07-20 23:00:00             15.6             15.0             14.4   \n",
       "2018-07-21 00:00:00             15.0             14.4             14.4   \n",
       "2018-07-21 01:00:00             14.4             14.4             14.4   \n",
       "2018-07-21 02:00:00             14.4             14.4             14.4   \n",
       "2018-07-21 03:00:00             14.4             14.4             15.6   \n",
       "...                              ...              ...              ...   \n",
       "2018-08-29 20:00:00             13.3             13.3             13.3   \n",
       "2018-08-29 21:00:00             13.3             13.3             13.3   \n",
       "2018-08-29 22:00:00             13.3             13.3             13.3   \n",
       "2018-08-29 23:00:00             13.3             13.3             13.3   \n",
       "2018-08-30 00:00:00             13.3             12.8             12.8   \n",
       "\n",
       "                     Tamb_forecast_7  Tamb_forecast_8  Tamb_forecast_9  \\\n",
       "2018-07-20 23:00:00             14.4             14.4             14.4   \n",
       "2018-07-21 00:00:00             14.4             14.4             15.6   \n",
       "2018-07-21 01:00:00             14.4             15.6             16.7   \n",
       "2018-07-21 02:00:00             15.6             16.7             18.3   \n",
       "2018-07-21 03:00:00             16.7             18.3             20.0   \n",
       "...                              ...              ...              ...   \n",
       "2018-08-29 20:00:00             13.3             13.3             13.3   \n",
       "2018-08-29 21:00:00             13.3             13.3             12.8   \n",
       "2018-08-29 22:00:00             13.3             12.8             12.8   \n",
       "2018-08-29 23:00:00             12.8             12.8             12.8   \n",
       "2018-08-30 00:00:00             12.8             13.3             13.9   \n",
       "\n",
       "                     Tamb_forecast_10  ...  Ppv_forecast_14  Ppv_forecast_15  \\\n",
       "2018-07-20 23:00:00              15.6  ...      2586.524348      2466.131190   \n",
       "2018-07-21 00:00:00              16.7  ...      2466.131190      2191.011433   \n",
       "2018-07-21 01:00:00              18.3  ...      2191.011433      1733.403675   \n",
       "2018-07-21 02:00:00              20.0  ...      1733.403675      1144.791610   \n",
       "2018-07-21 03:00:00              21.1  ...      1144.791610       462.429508   \n",
       "...                               ...  ...              ...              ...   \n",
       "2018-08-29 20:00:00              12.8  ...       710.042912      1005.350732   \n",
       "2018-08-29 21:00:00              12.8  ...      1005.350732      1210.813040   \n",
       "2018-08-29 22:00:00              12.8  ...      1210.813040      1912.391214   \n",
       "2018-08-29 23:00:00              13.3  ...      1912.391214      2296.034456   \n",
       "2018-08-30 00:00:00              15.0  ...      2296.034456      1917.820778   \n",
       "\n",
       "                     Ppv_forecast_16  Ppv_forecast_17  Ppv_forecast_18  \\\n",
       "2018-07-20 23:00:00      2191.011433      1733.403675      1144.791610   \n",
       "2018-07-21 00:00:00      1733.403675      1144.791610       462.429508   \n",
       "2018-07-21 01:00:00      1144.791610       462.429508       144.616928   \n",
       "2018-07-21 02:00:00       462.429508       144.616928         3.234688   \n",
       "2018-07-21 03:00:00       144.616928         3.234688         0.000000   \n",
       "...                              ...              ...              ...   \n",
       "2018-08-29 20:00:00      1210.813040      1912.391214      2296.034456   \n",
       "2018-08-29 21:00:00      1912.391214      2296.034456      1917.820778   \n",
       "2018-08-29 22:00:00      2296.034456      1917.820778      1463.605638   \n",
       "2018-08-29 23:00:00      1917.820778      1463.605638       831.925101   \n",
       "2018-08-30 00:00:00      1463.605638       831.925101       263.982510   \n",
       "\n",
       "                     Ppv_forecast_19  Ppv_forecast_20  Ppv_forecast_21  \\\n",
       "2018-07-20 23:00:00       462.429508       144.616928         3.234688   \n",
       "2018-07-21 00:00:00       144.616928         3.234688         0.000000   \n",
       "2018-07-21 01:00:00         3.234688         0.000000        12.760208   \n",
       "2018-07-21 02:00:00         0.000000        12.760208         1.048312   \n",
       "2018-07-21 03:00:00        12.760208         1.048312         0.000000   \n",
       "...                              ...              ...              ...   \n",
       "2018-08-29 20:00:00      1917.820778      1463.605638       831.925101   \n",
       "2018-08-29 21:00:00      1463.605638       831.925101       263.982510   \n",
       "2018-08-29 22:00:00       831.925101       263.982510        13.276272   \n",
       "2018-08-29 23:00:00       263.982510        13.276272         0.000000   \n",
       "2018-08-30 00:00:00        13.276272         0.000000         1.297032   \n",
       "\n",
       "                     Ppv_forecast_22  Ppv_forecast_23  \n",
       "2018-07-20 23:00:00         0.000000        12.760208  \n",
       "2018-07-21 00:00:00        12.760208         1.048312  \n",
       "2018-07-21 01:00:00         1.048312         0.000000  \n",
       "2018-07-21 02:00:00         0.000000         1.322876  \n",
       "2018-07-21 03:00:00         1.322876         5.421722  \n",
       "...                              ...              ...  \n",
       "2018-08-29 20:00:00       263.982510        13.276272  \n",
       "2018-08-29 21:00:00        13.276272         0.000000  \n",
       "2018-08-29 22:00:00         0.000000         1.297032  \n",
       "2018-08-29 23:00:00         1.297032         0.000000  \n",
       "2018-08-30 00:00:00         0.000000         0.000000  \n",
       "\n",
       "[798 rows x 115 columns]"
      ]
     },
     "metadata": {},
     "output_type": "display_data"
    }
   ],
   "source": [
    "import os\n",
    "import pandas as pd\n",
    "from sklearn.model_selection import train_test_split\n",
    "from tpot import TPOTRegressor\n",
    "\n",
    "# Read in example data set\n",
    "cwd = os.getcwd()\n",
    "path_data = os.path.join(cwd, '..', 'resources', 'data', 'forecaster_example_data.csv')\n",
    "df = pd.read_csv(path_data, index_col = [0])\n",
    "df.index = pd.to_datetime(df.index)   \n",
    "\n",
    "display(df)"
   ]
  },
  {
   "cell_type": "code",
   "execution_count": 4,
   "id": "c136f688",
   "metadata": {},
   "outputs": [
    {
     "name": "stdout",
     "output_type": "stream",
     "text": [
      "Iteration number 1\n"
     ]
    },
    {
     "name": "stderr",
     "output_type": "stream",
     "text": [
      "Version 0.11.7 of tpot is outdated. Version 0.12.0 was released 1 day ago.\n"
     ]
    },
    {
     "data": {
      "application/vnd.jupyter.widget-view+json": {
       "model_id": "",
       "version_major": 2,
       "version_minor": 0
      },
      "text/plain": [
       "Optimization Progress:   0%|          | 0/1100 [00:00<?, ?pipeline/s]"
      ]
     },
     "metadata": {},
     "output_type": "display_data"
    },
    {
     "name": "stdout",
     "output_type": "stream",
     "text": [
      "\n",
      "Generation 1 - Current best internal CV score: -60304.214548265816\n",
      "\n",
      "Generation 2 - Current best internal CV score: -60234.92821302071\n",
      "\n",
      "Generation 3 - Current best internal CV score: -59555.154855225774\n",
      "\n",
      "Generation 4 - Current best internal CV score: -59555.154855225774\n",
      "\n",
      "Generation 5 - Current best internal CV score: -59197.88755772087\n",
      "\n",
      "Generation 6 - Current best internal CV score: -59146.559682032654\n",
      "\n",
      "Generation 7 - Current best internal CV score: -59146.559682032654\n",
      "\n",
      "Generation 8 - Current best internal CV score: -58200.98970823745\n",
      "\n",
      "Generation 9 - Current best internal CV score: -57616.94995279866\n",
      "\n",
      "Generation 10 - Current best internal CV score: -57033.852775538995\n",
      "\n",
      "Best pipeline: XGBRegressor(ExtraTreesRegressor(input_matrix, bootstrap=True, max_features=0.9500000000000001, min_samples_leaf=18, min_samples_split=5, n_estimators=100), learning_rate=0.1, max_depth=8, min_child_weight=18, n_estimators=100, n_jobs=1, objective=reg:squarederror, subsample=0.6000000000000001, verbosity=0)\n"
     ]
    },
    {
     "name": "stderr",
     "output_type": "stream",
     "text": [
      "C:\\Users\\Peter\\anaconda3\\lib\\site-packages\\sklearn\\metrics\\_scorer.py:794: FutureWarning: sklearn.metrics.SCORERS is deprecated and will be removed in v1.3. Please use sklearn.metrics.get_scorer_names to get a list of available scorers and sklearn.metrics.get_metric to get scorer.\n",
      "  warnings.warn(\n",
      "C:\\Users\\Peter\\anaconda3\\lib\\site-packages\\sklearn\\base.py:439: UserWarning: X does not have valid feature names, but ExtraTreesRegressor was fitted with feature names\n",
      "  warnings.warn(\n",
      "Version 0.11.7 of tpot is outdated. Version 0.12.0 was released 1 day ago.\n"
     ]
    },
    {
     "name": "stdout",
     "output_type": "stream",
     "text": [
      "-58986.1880721732\n",
      "Iteration number 2\n"
     ]
    },
    {
     "data": {
      "application/vnd.jupyter.widget-view+json": {
       "model_id": "",
       "version_major": 2,
       "version_minor": 0
      },
      "text/plain": [
       "Optimization Progress:   0%|          | 0/1100 [00:00<?, ?pipeline/s]"
      ]
     },
     "metadata": {},
     "output_type": "display_data"
    },
    {
     "name": "stdout",
     "output_type": "stream",
     "text": [
      "\n",
      "Generation 1 - Current best internal CV score: -64884.230722348075\n",
      "\n",
      "Generation 2 - Current best internal CV score: -63179.37490097224\n",
      "\n",
      "Generation 3 - Current best internal CV score: -63179.37490097224\n",
      "\n",
      "Generation 4 - Current best internal CV score: -63179.37490097224\n",
      "\n",
      "Generation 5 - Current best internal CV score: -60831.35254421933\n",
      "\n",
      "Generation 6 - Current best internal CV score: -56539.4095929883\n",
      "\n",
      "Generation 7 - Current best internal CV score: -56539.4095929883\n",
      "\n",
      "Generation 8 - Current best internal CV score: -56539.4095929883\n",
      "\n",
      "Generation 9 - Current best internal CV score: -56539.4095929883\n",
      "\n",
      "Generation 10 - Current best internal CV score: -56539.4095929883\n",
      "\n",
      "Best pipeline: GradientBoostingRegressor(ExtraTreesRegressor(SelectFwe(StandardScaler(input_matrix), alpha=0.033), bootstrap=True, max_features=1.0, min_samples_leaf=15, min_samples_split=15, n_estimators=100), alpha=0.99, learning_rate=0.1, loss=huber, max_depth=5, max_features=0.9000000000000001, min_samples_leaf=12, min_samples_split=18, n_estimators=100, subsample=0.45)\n"
     ]
    },
    {
     "name": "stderr",
     "output_type": "stream",
     "text": [
      "C:\\Users\\Peter\\anaconda3\\lib\\site-packages\\sklearn\\metrics\\_scorer.py:794: FutureWarning: sklearn.metrics.SCORERS is deprecated and will be removed in v1.3. Please use sklearn.metrics.get_scorer_names to get a list of available scorers and sklearn.metrics.get_metric to get scorer.\n",
      "  warnings.warn(\n"
     ]
    },
    {
     "name": "stdout",
     "output_type": "stream",
     "text": [
      "-59768.42902681043\n",
      "Iteration number 3\n"
     ]
    },
    {
     "name": "stderr",
     "output_type": "stream",
     "text": [
      "Version 0.11.7 of tpot is outdated. Version 0.12.0 was released 2 days ago.\n"
     ]
    },
    {
     "data": {
      "application/vnd.jupyter.widget-view+json": {
       "model_id": "",
       "version_major": 2,
       "version_minor": 0
      },
      "text/plain": [
       "Optimization Progress:   0%|          | 0/1100 [00:00<?, ?pipeline/s]"
      ]
     },
     "metadata": {},
     "output_type": "display_data"
    },
    {
     "name": "stdout",
     "output_type": "stream",
     "text": [
      "\n",
      "Generation 1 - Current best internal CV score: -64970.53460172217\n",
      "\n",
      "Generation 2 - Current best internal CV score: -60319.42815473811\n",
      "\n",
      "Generation 3 - Current best internal CV score: -60319.42815473811\n",
      "\n",
      "Generation 4 - Current best internal CV score: -60319.42815473811\n",
      "\n",
      "Generation 5 - Current best internal CV score: -59607.922682966615\n",
      "\n",
      "Generation 6 - Current best internal CV score: -59607.922682966615\n",
      "\n",
      "Generation 7 - Current best internal CV score: -59543.40248841148\n",
      "\n",
      "Generation 8 - Current best internal CV score: -59543.40248841148\n",
      "\n",
      "Generation 9 - Current best internal CV score: -58678.70711444501\n",
      "\n",
      "Generation 10 - Current best internal CV score: -58678.70711444501\n",
      "\n",
      "Best pipeline: ExtraTreesRegressor(ElasticNetCV(XGBRegressor(XGBRegressor(input_matrix, learning_rate=0.001, max_depth=1, min_child_weight=11, n_estimators=100, n_jobs=1, objective=reg:squarederror, subsample=0.1, verbosity=0), learning_rate=0.1, max_depth=8, min_child_weight=20, n_estimators=100, n_jobs=1, objective=reg:squarederror, subsample=0.7500000000000001, verbosity=0), l1_ratio=0.30000000000000004, tol=0.001), bootstrap=False, max_features=0.45, min_samples_leaf=5, min_samples_split=17, n_estimators=100)\n"
     ]
    },
    {
     "name": "stderr",
     "output_type": "stream",
     "text": [
      "C:\\Users\\Peter\\anaconda3\\lib\\site-packages\\sklearn\\metrics\\_scorer.py:794: FutureWarning: sklearn.metrics.SCORERS is deprecated and will be removed in v1.3. Please use sklearn.metrics.get_scorer_names to get a list of available scorers and sklearn.metrics.get_metric to get scorer.\n",
      "  warnings.warn(\n",
      "Version 0.11.7 of tpot is outdated. Version 0.12.0 was released 2 days ago.\n"
     ]
    },
    {
     "name": "stdout",
     "output_type": "stream",
     "text": [
      "-54538.17068947739\n",
      "Iteration number 4\n"
     ]
    },
    {
     "data": {
      "application/vnd.jupyter.widget-view+json": {
       "model_id": "",
       "version_major": 2,
       "version_minor": 0
      },
      "text/plain": [
       "Optimization Progress:   0%|          | 0/1100 [00:00<?, ?pipeline/s]"
      ]
     },
     "metadata": {},
     "output_type": "display_data"
    },
    {
     "name": "stdout",
     "output_type": "stream",
     "text": [
      "\n",
      "Generation 1 - Current best internal CV score: -60834.83611438338\n",
      "\n",
      "Generation 2 - Current best internal CV score: -60834.83611438338\n",
      "\n",
      "Generation 3 - Current best internal CV score: -60834.83611438338\n",
      "\n",
      "Generation 4 - Current best internal CV score: -60834.83611438338\n",
      "\n",
      "Generation 5 - Current best internal CV score: -60834.83611438338\n",
      "\n",
      "Generation 6 - Current best internal CV score: -59656.93319425561\n",
      "\n",
      "Generation 7 - Current best internal CV score: -59342.513883931926\n",
      "\n",
      "Generation 8 - Current best internal CV score: -59342.513883931926\n",
      "\n",
      "Generation 9 - Current best internal CV score: -58497.88397329233\n",
      "\n",
      "Generation 10 - Current best internal CV score: -58497.88397329233\n",
      "\n",
      "Best pipeline: XGBRegressor(input_matrix, learning_rate=0.1, max_depth=10, min_child_weight=8, n_estimators=100, n_jobs=1, objective=reg:squarederror, subsample=0.45, verbosity=0)\n"
     ]
    },
    {
     "name": "stderr",
     "output_type": "stream",
     "text": [
      "C:\\Users\\Peter\\anaconda3\\lib\\site-packages\\sklearn\\metrics\\_scorer.py:794: FutureWarning: sklearn.metrics.SCORERS is deprecated and will be removed in v1.3. Please use sklearn.metrics.get_scorer_names to get a list of available scorers and sklearn.metrics.get_metric to get scorer.\n",
      "  warnings.warn(\n",
      "Version 0.11.7 of tpot is outdated. Version 0.12.0 was released 2 days ago.\n"
     ]
    },
    {
     "name": "stdout",
     "output_type": "stream",
     "text": [
      "-65573.9969979099\n",
      "Iteration number 5\n"
     ]
    },
    {
     "data": {
      "application/vnd.jupyter.widget-view+json": {
       "model_id": "",
       "version_major": 2,
       "version_minor": 0
      },
      "text/plain": [
       "Optimization Progress:   0%|          | 0/1100 [00:00<?, ?pipeline/s]"
      ]
     },
     "metadata": {},
     "output_type": "display_data"
    },
    {
     "name": "stdout",
     "output_type": "stream",
     "text": [
      "\n",
      "Generation 1 - Current best internal CV score: -60319.42815473811\n",
      "\n",
      "Generation 2 - Current best internal CV score: -60319.42815473811\n",
      "\n",
      "Generation 3 - Current best internal CV score: -60319.42815473811\n",
      "\n",
      "Generation 4 - Current best internal CV score: -59723.65234320889\n",
      "\n",
      "Generation 5 - Current best internal CV score: -59480.99453430235\n",
      "\n",
      "Generation 6 - Current best internal CV score: -58446.22842181129\n",
      "\n",
      "Generation 7 - Current best internal CV score: -58446.22842181129\n",
      "\n",
      "Generation 8 - Current best internal CV score: -58446.22842181129\n",
      "\n",
      "Generation 9 - Current best internal CV score: -58446.22842181129\n",
      "\n",
      "Generation 10 - Current best internal CV score: -57696.04083210818\n",
      "\n",
      "Best pipeline: XGBRegressor(input_matrix, learning_rate=0.1, max_depth=7, min_child_weight=8, n_estimators=100, n_jobs=1, objective=reg:squarederror, subsample=0.3, verbosity=0)\n"
     ]
    },
    {
     "name": "stderr",
     "output_type": "stream",
     "text": [
      "C:\\Users\\Peter\\anaconda3\\lib\\site-packages\\sklearn\\metrics\\_scorer.py:794: FutureWarning: sklearn.metrics.SCORERS is deprecated and will be removed in v1.3. Please use sklearn.metrics.get_scorer_names to get a list of available scorers and sklearn.metrics.get_metric to get scorer.\n",
      "  warnings.warn(\n"
     ]
    },
    {
     "name": "stdout",
     "output_type": "stream",
     "text": [
      "-63353.60229742384\n",
      "Iteration number 6\n"
     ]
    },
    {
     "name": "stderr",
     "output_type": "stream",
     "text": [
      "Version 0.11.7 of tpot is outdated. Version 0.12.0 was released 2 days ago.\n"
     ]
    },
    {
     "data": {
      "application/vnd.jupyter.widget-view+json": {
       "model_id": "",
       "version_major": 2,
       "version_minor": 0
      },
      "text/plain": [
       "Optimization Progress:   0%|          | 0/1100 [00:00<?, ?pipeline/s]"
      ]
     },
     "metadata": {},
     "output_type": "display_data"
    },
    {
     "name": "stdout",
     "output_type": "stream",
     "text": [
      "\n",
      "Generation 1 - Current best internal CV score: -64552.34810996847\n",
      "\n",
      "Generation 2 - Current best internal CV score: -62960.382702297225\n",
      "\n",
      "Generation 3 - Current best internal CV score: -60326.2390420951\n",
      "\n",
      "Generation 4 - Current best internal CV score: -60326.2390420951\n",
      "\n",
      "Generation 5 - Current best internal CV score: -58465.71243791042\n",
      "\n",
      "Generation 6 - Current best internal CV score: -58465.71243791042\n",
      "\n",
      "Generation 7 - Current best internal CV score: -58465.71243791042\n",
      "\n",
      "Generation 8 - Current best internal CV score: -58278.17987007921\n",
      "\n",
      "Generation 9 - Current best internal CV score: -58278.17987007921\n",
      "\n",
      "Generation 10 - Current best internal CV score: -58278.17987007921\n",
      "\n",
      "Best pipeline: GradientBoostingRegressor(input_matrix, alpha=0.99, learning_rate=0.1, loss=huber, max_depth=10, max_features=0.3, min_samples_leaf=8, min_samples_split=10, n_estimators=100, subsample=0.8500000000000001)\n"
     ]
    },
    {
     "name": "stderr",
     "output_type": "stream",
     "text": [
      "C:\\Users\\Peter\\anaconda3\\lib\\site-packages\\sklearn\\metrics\\_scorer.py:794: FutureWarning: sklearn.metrics.SCORERS is deprecated and will be removed in v1.3. Please use sklearn.metrics.get_scorer_names to get a list of available scorers and sklearn.metrics.get_metric to get scorer.\n",
      "  warnings.warn(\n"
     ]
    },
    {
     "name": "stdout",
     "output_type": "stream",
     "text": [
      "-62225.435868582594\n",
      "Iteration number 7\n"
     ]
    },
    {
     "name": "stderr",
     "output_type": "stream",
     "text": [
      "Version 0.11.7 of tpot is outdated. Version 0.12.0 was released 2 days ago.\n"
     ]
    },
    {
     "data": {
      "application/vnd.jupyter.widget-view+json": {
       "model_id": "",
       "version_major": 2,
       "version_minor": 0
      },
      "text/plain": [
       "Optimization Progress:   0%|          | 0/1100 [00:00<?, ?pipeline/s]"
      ]
     },
     "metadata": {},
     "output_type": "display_data"
    },
    {
     "name": "stdout",
     "output_type": "stream",
     "text": [
      "\n",
      "Generation 1 - Current best internal CV score: -65381.478513060974\n",
      "\n",
      "Generation 2 - Current best internal CV score: -61005.24531876399\n",
      "\n",
      "Generation 3 - Current best internal CV score: -61005.24531876399\n",
      "\n",
      "Generation 4 - Current best internal CV score: -57787.63760725915\n",
      "\n",
      "Generation 5 - Current best internal CV score: -57787.63760725915\n",
      "\n",
      "Generation 6 - Current best internal CV score: -57787.63760725915\n",
      "\n",
      "Generation 7 - Current best internal CV score: -55775.27436112576\n",
      "\n",
      "Generation 8 - Current best internal CV score: -55775.27436112576\n",
      "\n",
      "Generation 9 - Current best internal CV score: -55775.27436112576\n",
      "\n",
      "Generation 10 - Current best internal CV score: -55775.27436112576\n",
      "\n",
      "Best pipeline: RidgeCV(GradientBoostingRegressor(ElasticNetCV(Normalizer(input_matrix, norm=max), l1_ratio=0.75, tol=1e-05), alpha=0.99, learning_rate=0.1, loss=huber, max_depth=7, max_features=0.1, min_samples_leaf=7, min_samples_split=19, n_estimators=100, subsample=0.5))\n"
     ]
    },
    {
     "name": "stderr",
     "output_type": "stream",
     "text": [
      "C:\\Users\\Peter\\anaconda3\\lib\\site-packages\\sklearn\\metrics\\_scorer.py:794: FutureWarning: sklearn.metrics.SCORERS is deprecated and will be removed in v1.3. Please use sklearn.metrics.get_scorer_names to get a list of available scorers and sklearn.metrics.get_metric to get scorer.\n",
      "  warnings.warn(\n",
      "Version 0.11.7 of tpot is outdated. Version 0.12.0 was released 2 days ago.\n"
     ]
    },
    {
     "name": "stdout",
     "output_type": "stream",
     "text": [
      "-65019.654175232856\n",
      "Iteration number 8\n"
     ]
    },
    {
     "data": {
      "application/vnd.jupyter.widget-view+json": {
       "model_id": "",
       "version_major": 2,
       "version_minor": 0
      },
      "text/plain": [
       "Optimization Progress:   0%|          | 0/1100 [00:00<?, ?pipeline/s]"
      ]
     },
     "metadata": {},
     "output_type": "display_data"
    },
    {
     "name": "stdout",
     "output_type": "stream",
     "text": [
      "\n",
      "Generation 1 - Current best internal CV score: -65093.71555195877\n",
      "\n",
      "Generation 2 - Current best internal CV score: -65044.99005974848\n",
      "\n",
      "Generation 3 - Current best internal CV score: -64045.255743900394\n",
      "\n",
      "Generation 4 - Current best internal CV score: -60059.50303380932\n",
      "\n",
      "Generation 5 - Current best internal CV score: -60059.50303380932\n",
      "\n",
      "Generation 6 - Current best internal CV score: -60059.50303380932\n",
      "\n",
      "Generation 7 - Current best internal CV score: -58835.181972082995\n",
      "\n",
      "Generation 8 - Current best internal CV score: -58835.181972082995\n",
      "\n",
      "Generation 9 - Current best internal CV score: -58767.76929435319\n",
      "\n",
      "Generation 10 - Current best internal CV score: -57605.17487126866\n",
      "\n",
      "Best pipeline: XGBRegressor(input_matrix, learning_rate=0.1, max_depth=5, min_child_weight=8, n_estimators=100, n_jobs=1, objective=reg:squarederror, subsample=0.3, verbosity=0)\n"
     ]
    },
    {
     "name": "stderr",
     "output_type": "stream",
     "text": [
      "C:\\Users\\Peter\\anaconda3\\lib\\site-packages\\sklearn\\metrics\\_scorer.py:794: FutureWarning: sklearn.metrics.SCORERS is deprecated and will be removed in v1.3. Please use sklearn.metrics.get_scorer_names to get a list of available scorers and sklearn.metrics.get_metric to get scorer.\n",
      "  warnings.warn(\n",
      "Version 0.11.7 of tpot is outdated. Version 0.12.0 was released 2 days ago.\n"
     ]
    },
    {
     "name": "stdout",
     "output_type": "stream",
     "text": [
      "-60098.75826479558\n",
      "Iteration number 9\n"
     ]
    },
    {
     "data": {
      "application/vnd.jupyter.widget-view+json": {
       "model_id": "",
       "version_major": 2,
       "version_minor": 0
      },
      "text/plain": [
       "Optimization Progress:   0%|          | 0/1100 [00:00<?, ?pipeline/s]"
      ]
     },
     "metadata": {},
     "output_type": "display_data"
    },
    {
     "name": "stdout",
     "output_type": "stream",
     "text": [
      "\n",
      "Generation 1 - Current best internal CV score: -63070.98262314985\n",
      "\n",
      "Generation 2 - Current best internal CV score: -60205.204732942555\n",
      "\n",
      "Generation 3 - Current best internal CV score: -60205.204732942555\n",
      "\n",
      "Generation 4 - Current best internal CV score: -60205.204732942555\n",
      "\n",
      "Generation 5 - Current best internal CV score: -60065.051819020824\n",
      "\n",
      "Generation 6 - Current best internal CV score: -58104.501852093366\n",
      "\n",
      "Generation 7 - Current best internal CV score: -58104.501852093366\n",
      "\n",
      "Generation 8 - Current best internal CV score: -56118.11922956004\n",
      "\n",
      "Generation 9 - Current best internal CV score: -56118.11922956004\n",
      "\n",
      "Generation 10 - Current best internal CV score: -56118.11922956004\n",
      "\n",
      "Best pipeline: XGBRegressor(input_matrix, learning_rate=0.1, max_depth=4, min_child_weight=5, n_estimators=100, n_jobs=1, objective=reg:squarederror, subsample=0.45, verbosity=0)\n",
      "-56994.272799959814\n"
     ]
    },
    {
     "name": "stderr",
     "output_type": "stream",
     "text": [
      "C:\\Users\\Peter\\anaconda3\\lib\\site-packages\\sklearn\\metrics\\_scorer.py:794: FutureWarning: sklearn.metrics.SCORERS is deprecated and will be removed in v1.3. Please use sklearn.metrics.get_scorer_names to get a list of available scorers and sklearn.metrics.get_metric to get scorer.\n",
      "  warnings.warn(\n"
     ]
    }
   ],
   "source": [
    "# TPOT natively is only able to use single output regressors\n",
    "# This example limits the dataset to single target, then runs TPOT's analysis\n",
    "\n",
    "X = df[[col for col in df.columns if not 'Ppv' in col]]\n",
    "y = df[[col for col in df.columns if 'Ppv_forecast' in col]] \n",
    "\n",
    "y_tpot = y['Ppv_forecast_1']\n",
    "X_train, X_test, y_train_tpot, y_test_tpot = train_test_split(X, y_tpot, train_size = 0.75)\n",
    "\n",
    "# TPOT recommends a minimum of generations = 10, population_size = 100\n",
    "tpot = TPOTRegressor(generations=10, population_size = 100, verbosity = 2)\n",
    "\n",
    "iterations = range(1, 10)\n",
    "\n",
    "for iteration in iterations:\n",
    "    print('Iteration number {}'.format(iteration))\n",
    "    tpot.fit(X_train, y_train_tpot)\n",
    "    print(tpot.score(X_test, y_test_tpot))\n",
    "    tpot.export('tpot_SingleTarget_{}.py'.format(iteration))"
   ]
  },
  {
   "cell_type": "code",
   "execution_count": null,
   "id": "1bb233e7",
   "metadata": {},
   "outputs": [],
   "source": [
    "# You can enable use with multi-target forecasters by using:\n",
    "# https://github.com/EpistasisLab/tpot/pull/903/commits/e9c31c9c6c2bde6f05a11bf306d5af62fe002f6e\n",
    "# This example does the same as above for multi-target forecasters\n",
    "# Note that you need to edit tpot/base.py in between running these two cells\n",
    "\n",
    "# Commented out because I have not gotten it to work\n",
    "# X = df[[col for col in df.columns if not 'Ppv' in col]]\n",
    "# y = df[[col for col in df.columns if 'Ppv_forecast' in col]] \n",
    "# # display(X)\n",
    "# # display(y)\n",
    "# X_train, X_test, y_train_tpot, y_test_tpot = train_test_split(X, y, train_size = 0.75)\n",
    "# print('Iniailizing')\n",
    "# # TPOT recommends a minimyum of generations = 10, population_size = 100\n",
    "# tpot = TPOTRegressor(generations=1, population_size = 10, verbosity = 2)\n",
    "\n",
    "# iterations = range(1, 3)\n",
    "# print('starting iterations')\n",
    "# for iteration in iterations:\n",
    "#     print('Iteration number {}'.format(iteration))\n",
    "#     tpot.fit(X_train, y_train_tpot)\n",
    "#     print(tpot.score(X_test, y_test_tpot))\n",
    "#     tpot.export('tpot_testing_{}.py'.format(iteration))"
   ]
  }
 ],
 "metadata": {
  "kernelspec": {
   "display_name": "Python 3 (ipykernel)",
   "language": "python",
   "name": "python3"
  },
  "language_info": {
   "codemirror_mode": {
    "name": "ipython",
    "version": 3
   },
   "file_extension": ".py",
   "mimetype": "text/x-python",
   "name": "python",
   "nbconvert_exporter": "python",
   "pygments_lexer": "ipython3",
   "version": "3.9.16"
  }
 },
 "nbformat": 4,
 "nbformat_minor": 5
}
