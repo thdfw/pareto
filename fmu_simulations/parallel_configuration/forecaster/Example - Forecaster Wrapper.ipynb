{
 "cells": [
  {
   "cell_type": "markdown",
   "id": "33c95bf9",
   "metadata": {},
   "source": [
    "### Import forecaster libraries from current directory"
   ]
  },
  {
   "cell_type": "code",
   "execution_count": 1,
   "id": "b179c957",
   "metadata": {},
   "outputs": [],
   "source": [
    "import os\n",
    "import sys\n",
    "import pandas as pd\n",
    "import matplotlib.pyplot as plt\n",
    "\n",
    "import fcLib\n",
    "from fcSelector import ForecasterFramework, default_params\n",
    "from fcWrapper import ForecasterWrapper"
   ]
  },
  {
   "cell_type": "markdown",
   "id": "45f2b6c4",
   "metadata": {},
   "source": [
    "### load example training data from external file"
   ]
  },
  {
   "cell_type": "code",
   "execution_count": 2,
   "id": "c2305688",
   "metadata": {},
   "outputs": [],
   "source": [
    "# load training data   \n",
    "data = pd.read_csv('forecaster_example_data.csv', index_col = 0)\n",
    "data.index = pd.to_datetime(data.index)\n",
    "\n",
    "# Split the data into X and y\n",
    "X_columns = [col for col in data.columns if not 'Ppv_forecast' in col]\n",
    "y_columns = 'Ppv_forecast_1'\n",
    "# y_columns = [col for col in data.columns if 'Ppv_forecast' in col]\n",
    "\n",
    "X = data[X_columns]\n",
    "y = data[y_columns]\n",
    "\n",
    "# extract 2 series from X and y for predictions\n",
    "Xtrain = X.iloc[:-48]\n",
    "Xpredict1 = X.iloc[-48:-24]\n",
    "Xpredict2 = X.iloc[-24:]\n",
    "\n",
    "ytrain = y.iloc[:-48]\n",
    "ypredict1 = y.iloc[-48:-24]\n",
    "ypredict2 = y.iloc[-24:]\n",
    "\n",
    "# package data for framework\n",
    "data_eval = {\n",
    "    'X': Xtrain,\n",
    "    'y': ytrain\n",
    "}\n",
    "\n",
    "# simple func to plot predictions vs target\n",
    "def plotPredictions(dataPred, dataAct):\n",
    "    \n",
    "    # convert dataPred from list to df with same index as dataAct\n",
    "    ts = list(dataAct.index)\n",
    "    zipped = list(zip(ts, dataPred))\n",
    "    dataPred = pd.DataFrame(zipped, columns=['ts', 'value'])\n",
    "        \n",
    "    plt.figure(figsize = (10, 6))\n",
    "    plt.plot(dataAct.index, dataAct, label = 'target', linestyle = 'dashed')\n",
    "    plt.plot(dataPred.ts, dataPred.value, label = 'prediction')\n",
    "\n",
    "    plt.legend()\n",
    "\n",
    "    plt.tight_layout()\n",
    "    plt.show()"
   ]
  },
  {
   "cell_type": "markdown",
   "id": "fc324767",
   "metadata": {},
   "source": [
    "### generate a list of forecaster candidates from models in fcLib"
   ]
  },
  {
   "cell_type": "code",
   "execution_count": 3,
   "id": "9ccb92ca",
   "metadata": {},
   "outputs": [],
   "source": [
    "# create a list of forecaster candidate to evalute\n",
    "fcList = fcLib.forecaster_list\n",
    "\n",
    "# selecting 4 arbitrary forecaster options\n",
    "fcListUser = [fcList[ii] for ii in [2,8,9,11]]"
   ]
  },
  {
   "cell_type": "markdown",
   "id": "247086e4",
   "metadata": {},
   "source": [
    "### package inputs and create new wrapper instance"
   ]
  },
  {
   "cell_type": "code",
   "execution_count": 4,
   "id": "81308e69",
   "metadata": {},
   "outputs": [],
   "source": [
    "input = {\n",
    "    'training-data':data_eval, \n",
    "    'fcList': fcListUser, \n",
    "    'input-data': Xpredict1\n",
    "}\n",
    "\n",
    "# instantiate forecast framework wrapper\n",
    "newWrapper = ForecasterWrapper()\n",
    "\n",
    "# pass inputs\n",
    "newWrapper.input = input"
   ]
  },
  {
   "cell_type": "markdown",
   "id": "a13fec88",
   "metadata": {},
   "source": [
    "### use 'compute' method to train forecasters and generate new prediction"
   ]
  },
  {
   "cell_type": "code",
   "execution_count": 5,
   "id": "56f1f3ed",
   "metadata": {},
   "outputs": [
    {
     "name": "stdout",
     "output_type": "stream",
     "text": [
      "RUNNING THE L-BFGS-B CODE\n",
      "\n",
      "           * * *\n",
      "\n",
      "Machine precision = 2.220D-16\n",
      " N =            8     M =           10\n",
      "\n",
      "At X0         0 variables are exactly at the bounds\n",
      "\n",
      "At iterate    0    f=  7.08338D+00    |proj g|=  6.27255D-02\n",
      "\n",
      "At iterate    5    f=  7.05601D+00    |proj g|=  9.65938D-03\n"
     ]
    },
    {
     "name": "stderr",
     "output_type": "stream",
     "text": [
      " This problem is unconstrained.\n"
     ]
    },
    {
     "name": "stdout",
     "output_type": "stream",
     "text": [
      "\n",
      "At iterate   10    f=  7.05118D+00    |proj g|=  2.28570D-03\n",
      "\n",
      "At iterate   15    f=  7.05102D+00    |proj g|=  8.47092D-03\n",
      "\n",
      "At iterate   20    f=  7.05054D+00    |proj g|=  1.88695D-02\n",
      "\n",
      "At iterate   25    f=  7.05038D+00    |proj g|=  7.33394D-03\n",
      "\n",
      "At iterate   30    f=  7.02499D+00    |proj g|=  4.03674D-01\n",
      "\n",
      "At iterate   35    f=  6.97730D+00    |proj g|=  1.56438D-02\n",
      "\n",
      "At iterate   40    f=  6.97607D+00    |proj g|=  2.20101D-05\n",
      "\n",
      "           * * *\n",
      "\n",
      "Tit   = total number of iterations\n",
      "Tnf   = total number of function evaluations\n",
      "Tnint = total number of segments explored during Cauchy searches\n",
      "Skip  = number of BFGS updates skipped\n",
      "Nact  = number of active bounds at final generalized Cauchy point\n",
      "Projg = norm of the final projected gradient\n",
      "F     = final function value\n",
      "\n",
      "           * * *\n",
      "\n",
      "   N    Tit     Tnf  Tnint  Skip  Nact     Projg        F\n",
      "    8     41     49      1     0     0   1.009D-05   6.976D+00\n",
      "  F =   6.9760682403574625     \n",
      "\n",
      "CONVERGENCE: REL_REDUCTION_OF_F_<=_FACTR*EPSMCH             \n"
     ]
    },
    {
     "data": {
      "image/png": "[encoded data removed]",
      "text/plain": [
       "<Figure size 720x432 with 1 Axes>"
      ]
     },
     "metadata": {
      "needs_background": "light"
     },
     "output_type": "display_data"
    }
   ],
   "source": [
    "# run compute method to train and predict\n",
    "newWrapper.compute()\n",
    "\n",
    "plotPredictions(newWrapper.output['output-data'] , ypredict1)"
   ]
  },
  {
   "cell_type": "markdown",
   "id": "3741438d",
   "metadata": {},
   "source": [
    "### access results of forecaster training and selection in "
   ]
  },
  {
   "cell_type": "code",
   "execution_count": 6,
   "id": "d28e496e",
   "metadata": {},
   "outputs": [
    {
     "name": "stdout",
     "output_type": "stream",
     "text": [
      "{'bestModelName': 'randomforestpipeline', 'bestScore': 0.9705690908437622}\n"
     ]
    }
   ],
   "source": [
    "print(newWrapper.output['model-summary'])\n",
    "\n",
    "# latest prediction can be accessed in output['output-data']"
   ]
  },
  {
   "cell_type": "markdown",
   "id": "e9142ab3",
   "metadata": {},
   "source": [
    "### models will only be trained once, unless bestModel attr is removed"
   ]
  },
  {
   "cell_type": "code",
   "execution_count": 7,
   "id": "acc9c2ee",
   "metadata": {},
   "outputs": [
    {
     "data": {
      "text/plain": [
       "'Done.'"
      ]
     },
     "execution_count": 7,
     "metadata": {},
     "output_type": "execute_result"
    }
   ],
   "source": [
    "# model already selected, so wrapper simply generates prediction\n",
    "newWrapper.compute()"
   ]
  },
  {
   "cell_type": "code",
   "execution_count": 8,
   "id": "86d3593e",
   "metadata": {},
   "outputs": [
    {
     "name": "stdout",
     "output_type": "stream",
     "text": [
      "RUNNING THE L-BFGS-B CODE\n",
      "\n",
      "           * * *\n",
      "\n",
      "Machine precision = 2.220D-16\n",
      " N =            8     M =           10\n",
      "\n",
      "At X0         0 variables are exactly at the bounds\n",
      "\n",
      "At iterate    0    f=  7.08338D+00    |proj g|=  6.27255D-02\n",
      "\n",
      "At iterate    5    f=  7.05601D+00    |proj g|=  9.65938D-03\n"
     ]
    },
    {
     "name": "stderr",
     "output_type": "stream",
     "text": [
      " This problem is unconstrained.\n"
     ]
    },
    {
     "name": "stdout",
     "output_type": "stream",
     "text": [
      "\n",
      "At iterate   10    f=  7.05118D+00    |proj g|=  2.28570D-03\n",
      "\n",
      "At iterate   15    f=  7.05102D+00    |proj g|=  8.47092D-03\n",
      "\n",
      "At iterate   20    f=  7.05054D+00    |proj g|=  1.88695D-02\n",
      "\n",
      "At iterate   25    f=  7.05038D+00    |proj g|=  7.33394D-03\n",
      "\n",
      "At iterate   30    f=  7.02499D+00    |proj g|=  4.03674D-01\n",
      "\n",
      "At iterate   35    f=  6.97730D+00    |proj g|=  1.56438D-02\n",
      "\n",
      "At iterate   40    f=  6.97607D+00    |proj g|=  2.20101D-05\n",
      "\n",
      "           * * *\n",
      "\n",
      "Tit   = total number of iterations\n",
      "Tnf   = total number of function evaluations\n",
      "Tnint = total number of segments explored during Cauchy searches\n",
      "Skip  = number of BFGS updates skipped\n",
      "Nact  = number of active bounds at final generalized Cauchy point\n",
      "Projg = norm of the final projected gradient\n",
      "F     = final function value\n",
      "\n",
      "           * * *\n",
      "\n",
      "   N    Tit     Tnf  Tnint  Skip  Nact     Projg        F\n",
      "    8     41     49      1     0     0   1.009D-05   6.976D+00\n",
      "  F =   6.9760682403574625     \n",
      "\n",
      "CONVERGENCE: REL_REDUCTION_OF_F_<=_FACTR*EPSMCH             \n"
     ]
    },
    {
     "data": {
      "text/plain": [
       "'Done.'"
      ]
     },
     "execution_count": 8,
     "metadata": {},
     "output_type": "execute_result"
    }
   ],
   "source": [
    "# selected model is clears, models are trained an evaluated again using current stored data\n",
    "newWrapper.bestModel = None\n",
    "newWrapper.compute()"
   ]
  },
  {
   "cell_type": "markdown",
   "id": "7d2bb31e",
   "metadata": {},
   "source": [
    "### new predictions can be generated by passing new data to 'input' attr"
   ]
  },
  {
   "cell_type": "code",
   "execution_count": 10,
   "id": "c8c121e3",
   "metadata": {},
   "outputs": [
    {
     "data": {
      "image/png": "[encoded data removed]",
      "text/plain": [
       "<Figure size 720x432 with 1 Axes>"
      ]
     },
     "metadata": {
      "needs_background": "light"
     },
     "output_type": "display_data"
    }
   ],
   "source": [
    "input = {\n",
    "    'training-data':data_eval, \n",
    "    'fcList': fcListUser, \n",
    "    'input-data': Xpredict2\n",
    "}\n",
    "\n",
    "# pass inputs\n",
    "newWrapper.input = input\n",
    "newWrapper.compute()\n",
    "\n",
    "plotPredictions(newWrapper.output['output-data'] , ypredict2)"
   ]
  },
  {
   "cell_type": "code",
   "execution_count": null,
   "id": "a5c22aa2",
   "metadata": {},
   "outputs": [],
   "source": []
  }
 ],
 "metadata": {
  "kernelspec": {
   "display_name": "Python 3 (ipykernel)",
   "language": "python",
   "name": "python3"
  },
  "language_info": {
   "codemirror_mode": {
    "name": "ipython",
    "version": 3
   },
   "file_extension": ".py",
   "mimetype": "text/x-python",
   "name": "python",
   "nbconvert_exporter": "python",
   "pygments_lexer": "ipython3",
   "version": "3.7.13"
  }
 },
 "nbformat": 4,
 "nbformat_minor": 5
}
