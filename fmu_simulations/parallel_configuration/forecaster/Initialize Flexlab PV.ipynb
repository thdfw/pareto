{
 "cells": [
  {
   "cell_type": "code",
   "execution_count": 1,
   "id": "5bb1a3c4",
   "metadata": {},
   "outputs": [],
   "source": [
    "# !pip install git+https://github.com/ChristianTremblay/pyhaystack.git"
   ]
  },
  {
   "cell_type": "code",
   "execution_count": 4,
   "id": "7bdc4ee8",
   "metadata": {},
   "outputs": [],
   "source": [
    "import os\n",
    "import sys\n",
    "import time\n",
    "import json\n",
    "import pprint\n",
    "import warnings\n",
    "import numpy as np\n",
    "import pandas as pd\n",
    "import datetime as dtm\n",
    "import matplotlib.pyplot as plt\n",
    "\n",
    "import pyhaystack\n",
    "from hszinc import jsondumper\n",
    "\n",
    "try:\n",
    "    root = os.path.dirname(os.path.abspath(__file__))\n",
    "except:\n",
    "    root = os.getcwd()\n",
    "\n",
    "def grid_to_pandas(g):\n",
    "    d = json.loads(jsondumper.dump_grid(res))\n",
    "    \n",
    "    # parse columns (assuming c[0] is timestamp index)\n",
    "    cols = ['date_time'] + [c['channelName'].replace('s:', '') \\\n",
    "                            for c in d['cols'][1:]]\n",
    "    \n",
    "    # parse values\n",
    "    val = []\n",
    "    for r in d['rows']:\n",
    "        val.append([c.replace('t:', '').replace('n:', '').split(' ')[0] \\\n",
    "                    for c in r.values()])\n",
    "        \n",
    "    # convert to pandas\n",
    "    df = pd.DataFrame(val, columns=cols)\n",
    "    df = df.set_index('date_time')\n",
    "    df.index = pd.to_datetime(df.index)\n",
    "    df = df.apply(lambda x: pd.to_numeric(x))\n",
    "    return df"
   ]
  },
  {
   "cell_type": "markdown",
   "id": "3e63b62a",
   "metadata": {},
   "source": [
    "### Configure"
   ]
  },
  {
   "cell_type": "code",
   "execution_count": 12,
   "id": "aff14fad",
   "metadata": {},
   "outputs": [],
   "source": [
    "# read credentials\n",
    "with open(os.path.join(root, '..', 'communication', 'skyspark.txt')) as f:\n",
    "    creds = json.loads(f.read())\n",
    "    \n",
    "# start_time = '2023-01-01'\n",
    "start_time = '2023-05-01'\n",
    "final_time = '2023-05-09'\n",
    "ts = '15min'"
   ]
  },
  {
   "cell_type": "markdown",
   "id": "6f4644f2",
   "metadata": {},
   "source": [
    "### Download Skyspark"
   ]
  },
  {
   "cell_type": "code",
   "execution_count": 13,
   "id": "b74f7f29",
   "metadata": {},
   "outputs": [],
   "source": [
    "# establish session\n",
    "session = pyhaystack.connect(implementation='skyspark',\n",
    "                             uri='https://siku.lbl.gov/',\n",
    "                             project='flexlab',\n",
    "                             username=creds['u'],\n",
    "                             password=creds['p'])\n",
    "\n",
    "# Documentation for API: https://haxall.io/doc/docHaxall/AxonUsage.html#dict\n",
    "\n",
    "# cmd = 'readAll(point and wkh_PV).hisRead(today).hisRollup(avg, 5min)'\n",
    "# cmd = 'readAll(point and wkh_PV).hisRead(lastMonth).hisRollup(avg, 5min)'\n",
    "cmd = f'readAll(point and wkh_PV).hisRead({start_time}..{final_time}).hisRollup(avg, {ts})'\n",
    "# cmd = 'readAll(point and wkh_PV).hisRead(2023-04-01).hisRollup(avg, 5min)'\n",
    "res = session.get_eval(cmd).result\n",
    "data = grid_to_pandas(res)"
   ]
  },
  {
   "cell_type": "markdown",
   "id": "8e5d4792",
   "metadata": {},
   "source": [
    "### Merge and Store"
   ]
  },
  {
   "cell_type": "code",
   "execution_count": 14,
   "id": "a3efaf3b",
   "metadata": {},
   "outputs": [
    {
     "data": {
      "image/png": "[encoded data removed]",
      "text/plain": [
       "<Figure size 432x288 with 1 Axes>"
      ]
     },
     "metadata": {
      "needs_background": "light"
     },
     "output_type": "display_data"
    }
   ],
   "source": [
    "\n",
    "data[[c for c in data.columns if 'RealPower' in c]].plot()\n",
    "plt.show()"
   ]
  },
  {
   "cell_type": "code",
   "execution_count": null,
   "id": "4366efc1",
   "metadata": {},
   "outputs": [],
   "source": []
  }
 ],
 "metadata": {
  "kernelspec": {
   "display_name": "Python 3 (ipykernel)",
   "language": "python",
   "name": "python3"
  },
  "language_info": {
   "codemirror_mode": {
    "name": "ipython",
    "version": 3
   },
   "file_extension": ".py",
   "mimetype": "text/x-python",
   "name": "python",
   "nbconvert_exporter": "python",
   "pygments_lexer": "ipython3",
   "version": "3.8.13"
  }
 },
 "nbformat": 4,
 "nbformat_minor": 5
}
