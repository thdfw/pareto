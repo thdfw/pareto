{
 "cells": [
  {
   "cell_type": "code",
   "execution_count": 1,
   "id": "ea15b2a3",
   "metadata": {},
   "outputs": [],
   "source": [
    "import os\n",
    "import logging\n",
    "import pandas as pd\n",
    "from datetime import datetime, timedelta"
   ]
  },
  {
   "cell_type": "code",
   "execution_count": 2,
   "id": "78abfdf0",
   "metadata": {},
   "outputs": [],
   "source": [
    "# class ForecasterDev():\n",
    "    \n",
    "#     def __init__(self, params={}, data=None, fcList=[]):\n",
    "#         '''\n",
    "#         Initializes the framework with a list of models to \n",
    "#         evaulate, and a training dataset to use for model\n",
    "#         training and testing.\n",
    "        \n",
    "#         inputs:\n",
    "#         fcList: list of dicts defining forecaster models\n",
    "#             to evaluation. Dicts contain keys:\n",
    "            \n",
    "#             fun: name of forecast model to evaluate, \n",
    "#             corresponding to model types defined in fcLib\n",
    "            \n",
    "#             name: (optional) string with name of forecast model\n",
    "#             being used. Necessary if passing multiple forecasters\n",
    "#             of same type with different parameters. Default name\n",
    "#             set to 'fun' name. If multple forecasters of same type\n",
    "#             passed, the 'name' will be auto incrememted\n",
    "            \n",
    "#             parameters: parameters to tune each model.\n",
    "#         data: dict with X and y items, corresponding to features\n",
    "#             and target values. X should be pandas df, y numpy array\n",
    "\n",
    "#         '''\n",
    "        \n",
    "#         self.params = params\n",
    "#         self.fcList = fcList\n",
    "        \n",
    "#         self.dataDf = None\n",
    "#         self.backupDate = datetime.now()\n",
    "        \n",
    "#         self.fcData = None\n",
    "#         self.bestModel = None\n",
    "#         self.validData = False\n",
    "        \n",
    "        \n",
    "#         '''\n",
    "#         self.dtFormat = None\n",
    "#         self.addNewCols = True\n",
    "#         self.showWarnings = False\n",
    "        \n",
    "#         '''\n",
    "        \n",
    "#         # parse parameter\n",
    "#         k = self.params.keys()\n",
    "#         self.train_size = self.params['train_size'] if 'train_size' in k else 0.75\n",
    "#         self.train_method = self.params['train_method'] if 'train_method' in k else 'train_test_split'\n",
    "#         self.min_days = self.params['min_days'] if 'min_days' in k else 14\n",
    "#         self.colList = self.params['colList'] if 'colList' in k else []\n",
    "#         self.targetColName = self.params['targetColName'] if 'targetColName' in k else 'target'\n",
    "#         self.recordPath = self.params['recordPath'] if 'recordPath' in k else './data.csv'\n",
    "#         self.backupInterval = self.params['backupInterval'] if 'backupInterval' in k else timedelta(days=7)\n",
    "        \n",
    "#         # check that backupInterval type is timedelta\n",
    "#         if not type(self.backupInterval) == type(timedelta(days=1)):\n",
    "#             self.backupInterval = timedelta(days=7)\n",
    "        \n",
    "#         if data:\n",
    "#             self.updateData(data)\n",
    "#         else:\n",
    "#             self.initRecord()\n",
    "            \n",
    "\n",
    "#     def unpackRecord(self):\n",
    "#         '''\n",
    "#         method unpacks record df into X and y using self.targetColName\n",
    "#         '''\n",
    "        \n",
    "#         # init data attr to empty\n",
    "#         self.data = {}\n",
    "#         self.X = None\n",
    "#         self.y = None\n",
    "        \n",
    "#         # if no data stored, do nothing\n",
    "#         if self.dataDf is None:\n",
    "#             return\n",
    "        \n",
    "#         if self.dataDf.shape[0] == 0:\n",
    "#             return\n",
    "\n",
    "#         # get list of all columns\n",
    "#         dfColsList = list(self.dataDf.columns)\n",
    "\n",
    "#         # check if targetCol is currently in df\n",
    "#         if self.targetColName not in dfColsList:\n",
    "#             # if target is not in list of column, use last column from df\n",
    "#             logging.warning(f\"Target column {self.targetColName} not found in data, using {dfColsList[-1]}\")\n",
    "#             targetColName = dfColsList[-1]\n",
    "#         else:\n",
    "#             targetColName = self.targetColName\n",
    "\n",
    "#         # divide data based on current targetColName\n",
    "#         dfColsList.remove(targetColName)\n",
    "#         columnsX = dfColsList\n",
    "#         columnsY = targetColName\n",
    "\n",
    "#         self.data = {\n",
    "#             'X': self.dataDf[columnsX],\n",
    "#             'y': self.dataDf[columnsY]\n",
    "#         }\n",
    "\n",
    "#         self.X = self.dataDf[columnsX],\n",
    "#         self.y = self.dataDf[columnsY]\n",
    "\n",
    "\n",
    "#     def initRecord(self):\n",
    "#         '''\n",
    "#         method initializes record dataframe. Creates empty datafram\n",
    "#         '''\n",
    "        \n",
    "#         colList = self.colList\n",
    "\n",
    "#         # remove timestamp from list, which is used as index\n",
    "#         if 'timestamp' in colList:\n",
    "#             colList.remove('timestamp')\n",
    "\n",
    "#         # initialize df\n",
    "#         df = pd.DataFrame(columns = colList)\n",
    "\n",
    "#         self.dataDf = df\n",
    "\n",
    "#         # unpack current dataDf to X and y attributes\n",
    "#         self.unpackRecord()\n",
    "    \n",
    "    \n",
    "#     def addRecord(self, newRecord):\n",
    "#         '''\n",
    "#         method adds new record (row) to dataDf\n",
    "        \n",
    "#         newRecord - dict where keys should match dataDf col names\n",
    "#         must include field 'timestamp' for df index\n",
    "#         '''\n",
    "        \n",
    "#         # stop if required field 'timestamp' is missing\n",
    "#         if 'timestamp' not in newRecord.keys():\n",
    "#             logging.error('could not add record. Timestamp field missing')\n",
    "#             return\n",
    "        \n",
    "            \n",
    "#         # separate timestamp from other fields    \n",
    "#         timestamp = newRecord.pop('timestamp') \n",
    "        \n",
    "#         # check if there are new fields in record not found in self.dataDf\n",
    "#         dfColumns = self.dataDf.columns\n",
    "        \n",
    "#         for field in newRecord.keys():\n",
    "#             if field not in dfColumns:\n",
    "#                 # if field missing, add to df with None type as default value\n",
    "#                 self.dataDf[field] = None\n",
    "        \n",
    "#         self.dataDf.loc[timestamp] = newRecord\n",
    "        \n",
    "#         # unpack current dataDf to X and y attributes\n",
    "#         self.unpackRecord()\n",
    "    \n",
    "    \n",
    "#     def saveRecord(self):\n",
    "#         '''\n",
    "#         method saves current self.dataDf to self.recordPath file as csv\n",
    "#         '''\n",
    "        \n",
    "#         try:\n",
    "#             self.dataDf.to_csv(self.recordPath)\n",
    "            \n",
    "#             self.backupDate = datetime.now()\n",
    "            \n",
    "#         except Exception as e:\n",
    "#             traceback.print_exc()\n",
    "#             logging.error(f'Could not write training data to file {self.recordPath}')\n",
    "        \n",
    "    \n",
    "#     def readRecord(self):\n",
    "#         '''\n",
    "#         method reads data from self.recordPath and unpacks to X and y attributes\n",
    "#         '''\n",
    "#         try:\n",
    "#             dataDf = pd.read_csv(self.recordPath, index_col = 0)\n",
    "#             dataDf.index = pd.to_datetime(dataDf.index) \n",
    "\n",
    "#             self.dataDf = dataDf\n",
    "            \n",
    "#             # unpack current dataDf to X and y attributes\n",
    "#             self.unpackRecord()\n",
    "        \n",
    "#         except Exception as e:\n",
    "#             traceback.print_exc()\n",
    "#             logging.error(f'Could not read training data from file {self.recordPath}')\n",
    "         \n",
    "        \n",
    "#     def checkRecordBackup(self):\n",
    "#         '''\n",
    "#         method checks if data backup should be perfomed based on self.backupInterval and last backupDate\n",
    "#         '''\n",
    "        \n",
    "#         curTime = datetime.now()\n",
    "        \n",
    "#         if (curTime - self.backupDate) > self.backupInterval:\n",
    "#             logging.info('Saving training data to file')\n",
    "#             self.saveRecord()\n",
    "        \n",
    "        "
   ]
  },
  {
   "cell_type": "code",
   "execution_count": 3,
   "id": "28fc7bca",
   "metadata": {},
   "outputs": [],
   "source": [
    "import sys\n",
    "\n",
    "cwd = os.getcwd()\n",
    "folder = os.path.join(cwd, '..', 'src')\n",
    " \n",
    "# adding Folder_2 to the system path\n",
    "sys.path.insert(0, folder)\n",
    "\n",
    "from fcSelector import ForecasterFramework"
   ]
  },
  {
   "cell_type": "markdown",
   "id": "9fd373a6",
   "metadata": {},
   "source": [
    "### Create new selector with data back-up parameters"
   ]
  },
  {
   "cell_type": "code",
   "execution_count": 4,
   "id": "69126481",
   "metadata": {},
   "outputs": [],
   "source": [
    "parameter = {\n",
    "    'targetColName': 't',\n",
    "#     'colList': ['c1', 'c2', 'c3', 't1', ],\n",
    "    'recordPath': './training_data.csv',\n",
    "    'backupInterval': 5\n",
    "}\n",
    "\n",
    "x = ForecasterFramework(params = parameter)"
   ]
  },
  {
   "cell_type": "markdown",
   "id": "15f8f04f",
   "metadata": {},
   "source": [
    "### Add individual data records as dicts"
   ]
  },
  {
   "cell_type": "code",
   "execution_count": 5,
   "id": "7c955e6c",
   "metadata": {},
   "outputs": [
    {
     "name": "stderr",
     "output_type": "stream",
     "text": [
      "2022-10-25 11:15:15 WARNING  Indexed-field ts1 length is 5. expected 24\n"
     ]
    }
   ],
   "source": [
    "# newRecords = [\n",
    "\n",
    "\n",
    "\n",
    "newRecords = [\n",
    "    {\n",
    "        '2018-07-21 00:00:00': {\n",
    "            'c1': 11,\n",
    "            'c2': 22,\n",
    "            'c3': 1,\n",
    "            't': 101,\n",
    "            'ts1': [1,2,3,4,5]\n",
    "        }\n",
    "    },\n",
    "    {\n",
    "        '2018-07-21 01:00:00': {\n",
    "            'c1': 13,\n",
    "            'c2': 25,\n",
    "            'c3': 2,\n",
    "            't': 103,\n",
    "            'ts1': [11,2,3,4,5]\n",
    "        }\n",
    "    },\n",
    "    {\n",
    "        '2018-07-21 02:00:00': {\n",
    "            'c1': 15,\n",
    "            'c2': 35,\n",
    "            'c3': 4,\n",
    "            't': 112,\n",
    "            'ts1': [12,2,3,4,5]\n",
    "        }\n",
    "    },\n",
    "    {\n",
    "        '2018-07-21 03:00:00': {\n",
    "            'c1': 16,\n",
    "            'c2': 44,\n",
    "            'c3': 5,\n",
    "            't': 124,\n",
    "            'ts1': [13,2,3,4,5]\n",
    "        }\n",
    "    },\n",
    "    {\n",
    "        '2018-07-21 04:00:00': {\n",
    "            'c1': 17,\n",
    "            'c2': 49,\n",
    "            'c3': 6,\n",
    "            't': 144,\n",
    "            'ts1': [14,2,3,4,5]\n",
    "        }\n",
    "    }\n",
    "]\n",
    "\n",
    "for newRecord in newRecords:\n",
    "\n",
    "    x.addRecord(newRecord)\n"
   ]
  },
  {
   "cell_type": "markdown",
   "id": "9d8f089c",
   "metadata": {},
   "source": [
    "### Run backup method to save data if interval has passed"
   ]
  },
  {
   "cell_type": "code",
   "execution_count": 6,
   "id": "f2980b5a",
   "metadata": {},
   "outputs": [
    {
     "data": {
      "text/plain": [
       "pandas.core.series.Series"
      ]
     },
     "execution_count": 6,
     "metadata": {},
     "output_type": "execute_result"
    }
   ],
   "source": [
    "type(x.y)"
   ]
  },
  {
   "cell_type": "code",
   "execution_count": 7,
   "id": "5cda1e2e",
   "metadata": {},
   "outputs": [
    {
     "data": {
      "text/html": [
       "<div>\n",
       "<style scoped>\n",
       "    .dataframe tbody tr th:only-of-type {\n",
       "        vertical-align: middle;\n",
       "    }\n",
       "\n",
       "    .dataframe tbody tr th {\n",
       "        vertical-align: top;\n",
       "    }\n",
       "\n",
       "    .dataframe thead th {\n",
       "        text-align: right;\n",
       "    }\n",
       "</style>\n",
       "<table border=\"1\" class=\"dataframe\">\n",
       "  <thead>\n",
       "    <tr style=\"text-align: right;\">\n",
       "      <th></th>\n",
       "      <th>c1</th>\n",
       "      <th>c2</th>\n",
       "      <th>c3</th>\n",
       "      <th>t</th>\n",
       "    </tr>\n",
       "  </thead>\n",
       "  <tbody>\n",
       "    <tr>\n",
       "      <th>2018-07-21 00:00:00</th>\n",
       "      <td>11</td>\n",
       "      <td>22</td>\n",
       "      <td>1</td>\n",
       "      <td>101</td>\n",
       "    </tr>\n",
       "    <tr>\n",
       "      <th>2018-07-21 01:00:00</th>\n",
       "      <td>13</td>\n",
       "      <td>25</td>\n",
       "      <td>2</td>\n",
       "      <td>103</td>\n",
       "    </tr>\n",
       "    <tr>\n",
       "      <th>2018-07-21 02:00:00</th>\n",
       "      <td>15</td>\n",
       "      <td>35</td>\n",
       "      <td>4</td>\n",
       "      <td>112</td>\n",
       "    </tr>\n",
       "    <tr>\n",
       "      <th>2018-07-21 03:00:00</th>\n",
       "      <td>16</td>\n",
       "      <td>44</td>\n",
       "      <td>5</td>\n",
       "      <td>124</td>\n",
       "    </tr>\n",
       "    <tr>\n",
       "      <th>2018-07-21 04:00:00</th>\n",
       "      <td>17</td>\n",
       "      <td>49</td>\n",
       "      <td>6</td>\n",
       "      <td>144</td>\n",
       "    </tr>\n",
       "  </tbody>\n",
       "</table>\n",
       "</div>"
      ],
      "text/plain": [
       "                     c1  c2 c3    t\n",
       "2018-07-21 00:00:00  11  22  1  101\n",
       "2018-07-21 01:00:00  13  25  2  103\n",
       "2018-07-21 02:00:00  15  35  4  112\n",
       "2018-07-21 03:00:00  16  44  5  124\n",
       "2018-07-21 04:00:00  17  49  6  144"
      ]
     },
     "execution_count": 7,
     "metadata": {},
     "output_type": "execute_result"
    }
   ],
   "source": [
    "cList = list(x.dataDf.columns)[:-1]\n",
    "\n",
    "x.dataDf[cList]"
   ]
  },
  {
   "cell_type": "code",
   "execution_count": 8,
   "id": "45d182cd",
   "metadata": {},
   "outputs": [
    {
     "data": {
      "text/plain": [
       "(5, 4)"
      ]
     },
     "execution_count": 8,
     "metadata": {},
     "output_type": "execute_result"
    }
   ],
   "source": [
    "x.X.shape"
   ]
  },
  {
   "cell_type": "code",
   "execution_count": 9,
   "id": "56c25ce7",
   "metadata": {},
   "outputs": [
    {
     "data": {
      "text/plain": [
       "['2018-07-21 00:00:00']"
      ]
     },
     "execution_count": 9,
     "metadata": {},
     "output_type": "execute_result"
    }
   ],
   "source": [
    "list(newRecords[0].keys())"
   ]
  },
  {
   "cell_type": "code",
   "execution_count": 10,
   "id": "fd018b37",
   "metadata": {},
   "outputs": [
    {
     "name": "stderr",
     "output_type": "stream",
     "text": [
      "2022-10-25 11:15:15 WARNING  Indexed-field ts1 length is 5. expected 24\n"
     ]
    }
   ],
   "source": [
    "recordPath = './training_data.csv'\n",
    "\n",
    "# set params for data record\n",
    "parameter = {\n",
    "    'targetColName': 't',\n",
    "#     'colList': ['c1', 'c2', 'c3'],\n",
    "    'recordPath': recordPath,\n",
    "    'backupInterval': '5'\n",
    "}\n",
    "\n",
    "# create 2 empty forecaster frameworks\n",
    "a = ForecasterFramework(params = parameter)\n",
    "b = ForecasterFramework(params = parameter)\n",
    "\n",
    "# define example training data to add\n",
    "newRecords = [\n",
    "    {\n",
    "        '2018-07-21 00:00:00': {\n",
    "            'c1': 11,\n",
    "            'c2': 22,\n",
    "            'c3': 1,\n",
    "            't': 101,\n",
    "            'ts1': [1,2,3,4,5]\n",
    "        }\n",
    "    },\n",
    "    {\n",
    "        '2018-07-21 01:00:00': {\n",
    "            'c1': 13,\n",
    "            'c2': 25,\n",
    "            'c3': 2,\n",
    "            't': 103,\n",
    "            'ts1': [11,2,3,4,5]\n",
    "        }\n",
    "    },\n",
    "    {\n",
    "        '2018-07-21 02:00:00': {\n",
    "            'c1': 15,\n",
    "            'c2': 35,\n",
    "            'c3': 4,\n",
    "            't': 112,\n",
    "            'ts1': [12,2,3,4,5]\n",
    "        }\n",
    "    },\n",
    "    {\n",
    "        '2018-07-21 03:00:00': {\n",
    "            'c1': 16,\n",
    "            'c2': 44,\n",
    "            'c3': 5,\n",
    "            't': 124,\n",
    "            'ts1': [13,2,3,4,5]\n",
    "        }\n",
    "    },\n",
    "    {\n",
    "        '2018-07-21 04:00:00': {\n",
    "            'c1': 17,\n",
    "            'c2': 49,\n",
    "            'c3': 6,\n",
    "            't': 144,\n",
    "            'ts1': [14,2,3,4,5]\n",
    "        }\n",
    "    }\n",
    "]\n",
    "\n",
    "\n",
    "# add records to framework a\n",
    "for newRecord in newRecords:\n",
    "\n",
    "    a.addRecord(newRecord)\n",
    "\n",
    "# save record to file\n",
    "a.saveRecord()\n",
    "\n",
    "# read stored data into framework b\n",
    "b.readRecord()\n",
    "\n",
    "# delete external data record file \n",
    "if os.path.exists(recordPath):\n",
    "    os.remove(recordPath)"
   ]
  },
  {
   "cell_type": "code",
   "execution_count": 11,
   "id": "b36957d2",
   "metadata": {},
   "outputs": [
    {
     "name": "stdout",
     "output_type": "stream",
     "text": [
      "(5, 4)\n",
      "5\n",
      "(5, 4)\n",
      "5\n"
     ]
    }
   ],
   "source": [
    "print(a.X.shape)\n",
    "print(a.y.size)\n",
    "print(b.X.shape)\n",
    "print(b.y.size)"
   ]
  },
  {
   "cell_type": "code",
   "execution_count": 12,
   "id": "5cc6f090",
   "metadata": {},
   "outputs": [
    {
     "data": {
      "text/plain": [
       "5"
      ]
     },
     "execution_count": 12,
     "metadata": {},
     "output_type": "execute_result"
    }
   ],
   "source": [
    "x.backupInterval"
   ]
  },
  {
   "cell_type": "code",
   "execution_count": 13,
   "id": "c07c1138",
   "metadata": {},
   "outputs": [],
   "source": [
    "x.checkRecordBackup()"
   ]
  },
  {
   "cell_type": "code",
   "execution_count": 14,
   "id": "262c5ff8",
   "metadata": {},
   "outputs": [
    {
     "data": {
      "text/html": [
       "<div>\n",
       "<style scoped>\n",
       "    .dataframe tbody tr th:only-of-type {\n",
       "        vertical-align: middle;\n",
       "    }\n",
       "\n",
       "    .dataframe tbody tr th {\n",
       "        vertical-align: top;\n",
       "    }\n",
       "\n",
       "    .dataframe thead th {\n",
       "        text-align: right;\n",
       "    }\n",
       "</style>\n",
       "<table border=\"1\" class=\"dataframe\">\n",
       "  <thead>\n",
       "    <tr style=\"text-align: right;\">\n",
       "      <th></th>\n",
       "      <th>c1</th>\n",
       "      <th>c2</th>\n",
       "      <th>c3</th>\n",
       "      <th>t</th>\n",
       "      <th>ts1</th>\n",
       "    </tr>\n",
       "  </thead>\n",
       "  <tbody>\n",
       "    <tr>\n",
       "      <th>2018-07-21 00:00:00</th>\n",
       "      <td>11</td>\n",
       "      <td>22</td>\n",
       "      <td>1</td>\n",
       "      <td>101</td>\n",
       "      <td>NaN</td>\n",
       "    </tr>\n",
       "    <tr>\n",
       "      <th>2018-07-21 01:00:00</th>\n",
       "      <td>13</td>\n",
       "      <td>25</td>\n",
       "      <td>2</td>\n",
       "      <td>103</td>\n",
       "      <td>NaN</td>\n",
       "    </tr>\n",
       "    <tr>\n",
       "      <th>2018-07-21 02:00:00</th>\n",
       "      <td>15</td>\n",
       "      <td>35</td>\n",
       "      <td>4</td>\n",
       "      <td>112</td>\n",
       "      <td>NaN</td>\n",
       "    </tr>\n",
       "    <tr>\n",
       "      <th>2018-07-21 03:00:00</th>\n",
       "      <td>16</td>\n",
       "      <td>44</td>\n",
       "      <td>5</td>\n",
       "      <td>124</td>\n",
       "      <td>NaN</td>\n",
       "    </tr>\n",
       "    <tr>\n",
       "      <th>2018-07-21 04:00:00</th>\n",
       "      <td>17</td>\n",
       "      <td>49</td>\n",
       "      <td>6</td>\n",
       "      <td>144</td>\n",
       "      <td>NaN</td>\n",
       "    </tr>\n",
       "  </tbody>\n",
       "</table>\n",
       "</div>"
      ],
      "text/plain": [
       "                     c1  c2 c3    t  ts1\n",
       "2018-07-21 00:00:00  11  22  1  101  NaN\n",
       "2018-07-21 01:00:00  13  25  2  103  NaN\n",
       "2018-07-21 02:00:00  15  35  4  112  NaN\n",
       "2018-07-21 03:00:00  16  44  5  124  NaN\n",
       "2018-07-21 04:00:00  17  49  6  144  NaN"
      ]
     },
     "execution_count": 14,
     "metadata": {},
     "output_type": "execute_result"
    }
   ],
   "source": [
    "x.dataDf.head()"
   ]
  },
  {
   "cell_type": "code",
   "execution_count": 15,
   "id": "46733792",
   "metadata": {},
   "outputs": [
    {
     "data": {
      "text/plain": [
       "{'c1': {'tsIndexed': False},\n",
       " 'c2': {'tsIndexed': False},\n",
       " 'c3': {'tsIndexed': False},\n",
       " 't': {'tsIndexed': False},\n",
       " 'ts1': {'tsIndexed': True, 'tsCount': 5}}"
      ]
     },
     "execution_count": 15,
     "metadata": {},
     "output_type": "execute_result"
    }
   ],
   "source": [
    "x.dataMeta"
   ]
  },
  {
   "cell_type": "code",
   "execution_count": 16,
   "id": "7e041594",
   "metadata": {},
   "outputs": [
    {
     "data": {
      "text/plain": [
       "True"
      ]
     },
     "execution_count": 16,
     "metadata": {},
     "output_type": "execute_result"
    }
   ],
   "source": [
    "type([1,2,3]) is list"
   ]
  },
  {
   "cell_type": "code",
   "execution_count": null,
   "id": "1390db0a",
   "metadata": {},
   "outputs": [],
   "source": []
  }
 ],
 "metadata": {
  "kernelspec": {
   "display_name": "Python 3 (ipykernel)",
   "language": "python",
   "name": "python3"
  },
  "language_info": {
   "codemirror_mode": {
    "name": "ipython",
    "version": 3
   },
   "file_extension": ".py",
   "mimetype": "text/x-python",
   "name": "python",
   "nbconvert_exporter": "python",
   "pygments_lexer": "ipython3",
   "version": "3.7.13"
  }
 },
 "nbformat": 4,
 "nbformat_minor": 5
}
