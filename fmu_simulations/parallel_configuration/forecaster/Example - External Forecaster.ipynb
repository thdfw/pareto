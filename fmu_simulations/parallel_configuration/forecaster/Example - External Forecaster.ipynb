{
 "cells": [
  {
   "cell_type": "markdown",
   "id": "2f27a8de",
   "metadata": {},
   "source": [
    "## Example - Using External Forecaster\n",
    "\n",
    "External Trainer Loop\n",
    "- Create External Trainer class instance (ET)\n",
    "- Populate with data and train models\n",
    "\n",
    "Forecast Wrapper Loop\n",
    "- Create Forecaster Wrapper class instance (FW) that uses ET models\n",
    "- Pass FW inputs of ET training date and data pickle path\n",
    "- Run forecaster in FW using imported models\n",
    "- Add SCADA and weather data to FW to update training dataset\n",
    "\n",
    "Interactions between Loops\n",
    "- Trigger retraining in FW\n",
    "- FW writes retraining date in outputs\n",
    "- Demonstrate ET response to FW retraining flag"
   ]
  },
  {
   "cell_type": "markdown",
   "id": "33c95bf9",
   "metadata": {},
   "source": [
    "### Import forecaster libraries from current directory"
   ]
  },
  {
   "cell_type": "code",
   "execution_count": 1,
   "id": "b179c957",
   "metadata": {},
   "outputs": [],
   "source": [
    "import os\n",
    "import sys\n",
    "import pandas as pd\n",
    "import matplotlib.pyplot as plt\n",
    "\n",
    "import numpy as np\n",
    "import json\n",
    "import traceback\n",
    "import time\n",
    "import json\n",
    "import random\n",
    "from datetime import datetime, timedelta\n",
    "from pprint import pprint\n",
    "\n",
    "import fcLib\n",
    "from fcWrapper import ForecasterWrapper, ForecasterTrainer"
   ]
  },
  {
   "cell_type": "markdown",
   "id": "82f16895",
   "metadata": {},
   "source": [
    "### Define functions for generating data"
   ]
  },
  {
   "cell_type": "code",
   "execution_count": 2,
   "id": "bd9e9d33",
   "metadata": {},
   "outputs": [],
   "source": [
    "def example_scada_random():\n",
    "    # generates a list of SCADA readings with randome SOCs           \n",
    "    data = {'soc': 99, 'pmax': 1e3, 'emax': 5e3, \n",
    "            'echa': 0.96, 'edis': 0.96, 'smin': 0.1, 'smax': 1.0}\n",
    "    \n",
    "    scada1 = pd.DataFrame(index=range(len(data)*3), columns=['name', 'value', 'valid', 'error'])\n",
    "    ix = 0\n",
    "    for par, v in data.items():\n",
    "        for i in range(3):\n",
    "            \n",
    "            # overwrite static SOC with random value\n",
    "            if par == 'soc':\n",
    "                v = round(random.uniform(0.25, 0.9), 2)\n",
    "            \n",
    "            scada1.loc[ix, :] = [f'irn{i}_battery-{par}', v, 1, '']\n",
    "            ix += 1\n",
    "    return scada1.to_json()\n",
    "\n",
    "def example_weather_forecast_random():\n",
    "    \n",
    "    weatherFilePath = os.path.abspath(os.path.join(os.getcwd(), \n",
    "                'example_weatherforecast.csv'))\n",
    "\n",
    "    newWeatherRecord = pd.read_csv(weatherFilePath, index_col=0)\n",
    "    \n",
    "    # generate random value to scale forecast by\n",
    "    scaleVal = random.uniform(0.95, 1.05)\n",
    "    \n",
    "    newWeatherRecord[newWeatherRecord.select_dtypes(include=['number']).columns] *= scaleVal\n",
    "    \n",
    "    newWeatherRecord = newWeatherRecord.to_json()\n",
    "\n",
    "    return newWeatherRecord"
   ]
  },
  {
   "cell_type": "markdown",
   "id": "c2e85361",
   "metadata": {},
   "source": [
    "### Define Custom Forecaster List"
   ]
  },
  {
   "cell_type": "code",
   "execution_count": 3,
   "id": "a96e12c0",
   "metadata": {},
   "outputs": [],
   "source": [
    "# create a list of forecaster candidate to evalute\n",
    "fcList = fcLib.forecaster_list\n",
    "\n",
    "# selecting 4 arbitrary forecaster options\n",
    "fcListUser = [fcList[ii] for ii in [0,1,2,6]]\n",
    "\n",
    "# package fcList as Json\n",
    "fcListUser = json.dumps(fcListUser)"
   ]
  },
  {
   "cell_type": "code",
   "execution_count": 4,
   "id": "11981d82",
   "metadata": {},
   "outputs": [
    {
     "data": {
      "text/plain": [
       "['extra_trees_pipeline',\n",
       " 'random_forest_pipeline',\n",
       " 'multi_layer_perceptron',\n",
       " 'random_forest']"
      ]
     },
     "execution_count": 4,
     "metadata": {},
     "output_type": "execute_result"
    }
   ],
   "source": [
    "[fcList[ii]['name'] for ii in [0,1,2,6]]"
   ]
  },
  {
   "cell_type": "markdown",
   "id": "539e4f7e",
   "metadata": {},
   "source": [
    "### Forecast Wrapper Loop: Initialization\n",
    "\n",
    "Initialize forecast wrapper loop using external forecast trainer. No data has been collected yet, so no forecasters have been trained. Wrapper collects data and stores in dataManager class.\n",
    "\n",
    "If 'last-trainall' input field is None, Wrapper will not attempt to load trained models from external pickle file.\n",
    "\n",
    "When sufficient data collected, wrapper writes retrain trigger to 'date-trainall' output field"
   ]
  },
  {
   "cell_type": "code",
   "execution_count": 5,
   "id": "ffb00b5c",
   "metadata": {},
   "outputs": [
    {
     "name": "stdout",
     "output_type": "stream",
     "text": [
      "{'date-trainall': '2023-07-07 05:00:00',\n",
      " 'duration': 0.022462129592895508,\n",
      " 'model-summary': {'lastTrainedAll': 'None', 'lastTrainedBest': 'None'},\n",
      " 'output-data': None}\n",
      "INFO: Externally trained model not yet avialable. No prediction generated.\n"
     ]
    }
   ],
   "source": [
    "# define file locations where loops will interact\n",
    "trainingDataPath = './example_trainer_data_history.csv'\n",
    "trainingModelPath = 'example_external_models.pkl'\n",
    "\n",
    "# instantiate forecast framework wrapper\n",
    "n2 = ForecasterWrapper()\n",
    "\n",
    "# create initial training data row by row\n",
    "for rr in range(0,160):\n",
    "    \n",
    "    baseTime = '2023-07-01 00:00:00'\n",
    "    baseTime = datetime.strptime(baseTime, '%Y-%m-%d %H:%M:%S')\n",
    "    newTime = baseTime + timedelta(hours=rr)\n",
    "    \n",
    "    # get unix time for timestampe\n",
    "    newTimeUnix = int(newTime.strftime('%s'))\n",
    "    newTime = newTime.strftime('%Y-%m-%d %H:%M:%S')\n",
    "    \n",
    "    newInput = {\n",
    "        'forecaster-list': None, \n",
    "        \n",
    "        'time':  newTimeUnix,\n",
    "        \n",
    "        'data-timestamp':  newTime,\n",
    "        'scada-data': example_scada_random(),\n",
    "        'weather-data': example_weather_forecast_random(),\n",
    "    \n",
    "        'config': {\n",
    "            'targetName': 'irn0_battery-edis',\n",
    "            'backupPath': trainingDataPath,\n",
    "            'useExternalTrainer': True,\n",
    "            'externalTrainerPath': trainingModelPath,\n",
    "            'trainingInterval': 1*24*60*60, # set retraining interval to 1 day\n",
    "            'min_samples': 150 # minimum samples before training dataset written to file\n",
    "        },\n",
    "        'last-trainall': None\n",
    "    }\n",
    "    \n",
    "    n2.input = newInput\n",
    "    \n",
    "    # run compute method to train and predict\n",
    "    n2.compute()\n",
    "    \n",
    "pprint(n2.output)\n",
    "print(n2.msg)\n",
    "\n",
    "# duration should be full compute time"
   ]
  },
  {
   "cell_type": "markdown",
   "id": "247086e4",
   "metadata": {},
   "source": [
    "### External Trainer Loop: Initialization"
   ]
  },
  {
   "cell_type": "code",
   "execution_count": 6,
   "id": "81308e69",
   "metadata": {},
   "outputs": [
    {
     "name": "stdout",
     "output_type": "stream",
     "text": [
      "{'duration': 2.021742105484009,\n",
      " 'last-trainall': '2023-07-07 15:00:00',\n",
      " 'model-summary': {'bestModelName': 'random_forest',\n",
      "                   'bestScore': 0.0,\n",
      "                   'bestScoreAdj': 1.263157894736842,\n",
      "                   'bestScoreMse': 2.7733391199176196e-30,\n",
      "                   'bestScoreRmse': 1.6653345369377348e-15,\n",
      "                   'lastTrainedAll': '2023-07-07 15:00:00',\n",
      "                   'lastTrainedBest': '2023-07-07 15:00:00'},\n",
      " 'output-data': None}\n",
      "Done.\n",
      "2023-07-07 15:00:00\n"
     ]
    }
   ],
   "source": [
    "# extract date-trainall from wrapper loop outputs\n",
    "trainDate = n2.output['date-trainall']\n",
    "\n",
    "# create input for external trainer wrapper\n",
    "newInputs1 = {\n",
    "    'forecaster-list': fcListUser, \n",
    "    \n",
    "    'time':  newTimeUnix,\n",
    "    \n",
    "    'config': {\n",
    "        'targetName': 'irn0_battery-edis',\n",
    "        'inputPath': trainingDataPath,\n",
    "        'externalTrainerPath': trainingModelPath,\n",
    "        'isExternalTrainer': True\n",
    "    },\n",
    "    'date-trainall': trainDate\n",
    "}\n",
    "\n",
    "# instantiate forecast framework wrapper\n",
    "n1 = ForecasterTrainer()\n",
    "\n",
    "# read data from file & train models\n",
    "n1.input = newInputs1\n",
    "n1.compute()\n",
    "\n",
    "# show summary data of trained model\n",
    "pprint(n1.output)\n",
    "print(n1.msg)\n",
    "\n",
    "print(n1.trainingDate)"
   ]
  },
  {
   "cell_type": "markdown",
   "id": "20e438cc",
   "metadata": {},
   "source": [
    "### External Trainer Loop: Re-running without new trigger\n"
   ]
  },
  {
   "cell_type": "code",
   "execution_count": 7,
   "id": "784fd2d8",
   "metadata": {},
   "outputs": [
    {
     "name": "stdout",
     "output_type": "stream",
     "text": [
      "{'duration': 2.0531840324401855,\n",
      " 'last-trainall': '2023-07-07 16:00:00',\n",
      " 'model-summary': {'bestModelName': 'random_forest',\n",
      "                   'bestScore': 0.0,\n",
      "                   'bestScoreAdj': 1.263157894736842,\n",
      "                   'bestScoreMse': 2.7733391199176196e-30,\n",
      "                   'bestScoreRmse': 1.6653345369377348e-15,\n",
      "                   'lastTrainedAll': '2023-07-07 15:00:00',\n",
      "                   'lastTrainedBest': '2023-07-07 16:00:00'},\n",
      " 'output-data': None}\n",
      "Done.\n",
      "2023-07-07 15:00:00\n"
     ]
    }
   ],
   "source": [
    "# extract date-trainall from wrapper loop outputs\n",
    "trainDate = n2.output['date-trainall']\n",
    "\n",
    "# create input for external trainer wrapper\n",
    "newInputs1 = {\n",
    "    'forecaster-list': fcListUser, \n",
    "    \n",
    "    'time':  newTimeUnix + 60*60,\n",
    "    \n",
    "    'config': {\n",
    "        'targetName': 'irn0_battery-edis',\n",
    "        'inputPath': trainingDataPath,\n",
    "        'externalTrainerPath': trainingModelPath,\n",
    "        'isExternalTrainer': True\n",
    "    },\n",
    "    'date-trainall': trainDate\n",
    "}\n",
    "\n",
    "# read data from file & train models\n",
    "n1.input = newInputs1\n",
    "n1.compute()\n",
    "\n",
    "# show summary data of trained model\n",
    "pprint(n1.output)\n",
    "print(n1.msg)\n",
    "\n",
    "print(n1.trainingDate)"
   ]
  },
  {
   "cell_type": "markdown",
   "id": "a13fec88",
   "metadata": {},
   "source": [
    "### Forecast Wrapper Loop: Load External Forecasters\n",
    "\n",
    "Passing last-trainall output from External Trainer loop allows Wrapper to load trained models from pickle file\n",
    "\n",
    "Note: forecaster predictions currently throwing errors, needs to be resolved in fcLib"
   ]
  },
  {
   "cell_type": "code",
   "execution_count": 8,
   "id": "56f1f3ed",
   "metadata": {},
   "outputs": [
    {
     "name": "stdout",
     "output_type": "stream",
     "text": [
      "{'date-trainall': '2023-07-07 05:00:00',\n",
      " 'duration': 0.00015497207641601562,\n",
      " 'model-summary': {'lastTrainedAll': 'None', 'lastTrainedBest': 'None'},\n",
      " 'output-data': None}\n"
     ]
    }
   ],
   "source": [
    "# extract date-trainall from wrapper loop outputs\n",
    "trainDateLast = n1.output['last-trainall']\n",
    "\n",
    "# create initial inputs with no training data\n",
    "newInputs2 = {\n",
    "    'forecaster-list': None, \n",
    "\n",
    "    'time':  newTimeUnix,\n",
    "\n",
    "    'config': {\n",
    "        'targetName': 'irn0_battery-edis',\n",
    "        'backupPath': trainingDataPath,\n",
    "        'useExternalTrainer': True,\n",
    "        'externalTrainerPath': trainingModelPath,\n",
    "        'trainingInterval': 1*24*60*60, # set retraining interval to 1 day\n",
    "        'min_samples': 150 # minimum samples before training dataset written to file\n",
    "    },\n",
    "    'last-trainall': trainDateLast\n",
    "}\n",
    "\n",
    "# store inputs to wrapper\n",
    "n2.input = newInputs2\n",
    "    \n",
    "# run compute method to train and predict\n",
    "n2.compute()\n",
    "\n",
    "pprint(n2.output)"
   ]
  },
  {
   "cell_type": "markdown",
   "id": "9d41e33c",
   "metadata": {},
   "source": [
    "### Forecast Wrapper Loop: Trigger Retraining\n",
    "\n",
    "As additional time passes/data collected by Wrapper Loop, retraining should be triggered. Causing new data to be written to backup file, and a new datetime passed in outputs"
   ]
  },
  {
   "cell_type": "code",
   "execution_count": 9,
   "id": "48ea3932",
   "metadata": {},
   "outputs": [
    {
     "name": "stdout",
     "output_type": "stream",
     "text": [
      "{'date-trainall': '2023-07-08 15:00:00',\n",
      " 'duration': 0.036850929260253906,\n",
      " 'model-summary': {'bestModelName': 'random_forest',\n",
      "                   'bestScore': 0.0,\n",
      "                   'bestScoreAdj': 1.263157894736842,\n",
      "                   'bestScoreMse': 2.7733391199176196e-30,\n",
      "                   'bestScoreRmse': 1.6653345369377348e-15,\n",
      "                   'lastTrainedAll': '2023-07-07 15:00:00',\n",
      "                   'lastTrainedBest': 'None'},\n",
      " 'output-data': '{\"y\":{\"1689314400000\":0.96,\"1689318000000\":0.96,\"1689321600000\":0.96,\"1689325200000\":0.96,\"1689328800000\":0.96,\"1689332400000\":0.96,\"1689336000000\":0.96,\"1689339600000\":0.96,\"1689343200000\":0.96,\"1689346800000\":0.96,\"1689350400000\":0.96,\"1689354000000\":0.96,\"1689357600000\":0.96,\"1689361200000\":0.96,\"1689364800000\":0.96,\"1689368400000\":0.96,\"1689372000000\":0.96,\"1689375600000\":0.96,\"1689379200000\":0.96,\"1689382800000\":0.96,\"1689386400000\":0.96,\"1689390000000\":0.96,\"1689393600000\":0.96,\"1689397200000\":0.96}}'}\n",
      "Done.\n",
      "new retraining timestamp: 2023-07-08 15:00:00\n"
     ]
    }
   ],
   "source": [
    "retrainDatePrev = n2.output['date-trainall']\n",
    "\n",
    "baseTimeStart = str(n2.dataManager.dataDf.index[-1])\n",
    "\n",
    "# create initial training data row by row\n",
    "for rr in range(1,160):\n",
    "    \n",
    "    # set timestamp index as end of existing dataset\n",
    "    baseTime = datetime.strptime(baseTimeStart, '%Y-%m-%d %H:%M:%S')\n",
    "    newTime = baseTime + timedelta(hours=rr)\n",
    "    \n",
    "    # get unix time for timestampe\n",
    "    newTimeUnix = int(newTime.strftime('%s'))\n",
    "    newTime = newTime.strftime('%Y-%m-%d %H:%M:%S')\n",
    "    \n",
    "    newInput = {\n",
    "        'forecaster-list': None, \n",
    "        \n",
    "        'time':  newTimeUnix,\n",
    "        \n",
    "        'data-timestamp':  newTime,\n",
    "        'scada-data': example_scada_random(),\n",
    "        'weather-data': example_weather_forecast_random(),\n",
    "    \n",
    "        'config': {\n",
    "            'targetName': 'irn0_battery-edis',\n",
    "            'backupPath': trainingDataPath,\n",
    "            'useExternalTrainer': True,\n",
    "            'externalTrainerPath': trainingModelPath,\n",
    "            'trainingInterval': 1*24*60*60, # set retraining interval to 1 day\n",
    "            'min_samples': 150 # minimum samples before training dataset written to file\n",
    "        },\n",
    "        'last-trainall': trainDateLast\n",
    "    }\n",
    "    \n",
    "    n2.input = newInput\n",
    "    \n",
    "    # run compute method to train and predict\n",
    "    n2.compute()\n",
    "    \n",
    "pprint(n2.output)\n",
    "print(n2.msg)\n",
    "\n",
    "print(f\"new retraining timestamp: {n2.output['date-trainall']}\")"
   ]
  },
  {
   "cell_type": "code",
   "execution_count": 10,
   "id": "ad47866c",
   "metadata": {},
   "outputs": [
    {
     "name": "stdout",
     "output_type": "stream",
     "text": [
      "previous retraining timestamp: 2023-07-07 05:00:00\n",
      "updated retraining timestamp: 2023-07-08 15:00:00\n"
     ]
    }
   ],
   "source": [
    "print(f\"previous retraining timestamp: {retrainDatePrev}\")\n",
    "print(f\"updated retraining timestamp: {n2.output['date-trainall']}\")"
   ]
  },
  {
   "cell_type": "markdown",
   "id": "1b249a15",
   "metadata": {},
   "source": [
    "### Forecast Wrapper Loop: Trigger Retraining"
   ]
  },
  {
   "cell_type": "code",
   "execution_count": 11,
   "id": "ce4d3070",
   "metadata": {},
   "outputs": [
    {
     "name": "stdout",
     "output_type": "stream",
     "text": [
      "Previous model training date: 2023-07-07 16:00:00\n",
      "Updated model training date: 2023-07-14 06:00:00\n",
      "Training dataset changed from 150 obs to 184\n"
     ]
    }
   ],
   "source": [
    "# extract previous data-set size and training date\n",
    "samplesPrev = n1.dataManager.dataDf.shape[0]\n",
    "traingingDatePrev = str(n1.framework.trainingDate)\n",
    "\n",
    "# extract date-trainall from wrapper loop outputs\n",
    "trainDate = n2.output['date-trainall']\n",
    "\n",
    "# create input for external trainer wrapper\n",
    "newInputs1 = {\n",
    "    'forecaster-list': fcListUser, \n",
    "    \n",
    "    'time':  newTimeUnix,\n",
    "    \n",
    "    'config': {\n",
    "        'targetName': 'irn0_battery-edis',\n",
    "        'inputPath': trainingDataPath,\n",
    "        'externalTrainerPath': trainingModelPath,\n",
    "        'isExternalTrainer': True\n",
    "    },\n",
    "    'date-trainall': trainDate\n",
    "}\n",
    "\n",
    "# read data from file & train models\n",
    "n1.input = newInputs1\n",
    "n1.compute()\n",
    "\n",
    "# extract updated data-set size and training date\n",
    "samplesNew = n1.dataManager.dataDf.shape[0]\n",
    "traingingDateNew = str(n1.framework.trainingDate)\n",
    "\n",
    "print(f\"Previous model training date: {traingingDatePrev}\")\n",
    "print(f\"Updated model training date: {traingingDateNew}\")\n",
    "print(f\"Training dataset changed from {samplesPrev} obs to {samplesNew}\")\n"
   ]
  }
 ],
 "metadata": {
  "kernelspec": {
   "display_name": "Python 3 (ipykernel)",
   "language": "python",
   "name": "python3"
  },
  "language_info": {
   "codemirror_mode": {
    "name": "ipython",
    "version": 3
   },
   "file_extension": ".py",
   "mimetype": "text/x-python",
   "name": "python",
   "nbconvert_exporter": "python",
   "pygments_lexer": "ipython3",
   "version": "3.7.13"
  }
 },
 "nbformat": 4,
 "nbformat_minor": 5
}
