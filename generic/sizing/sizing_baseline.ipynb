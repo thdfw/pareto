{
 "cells": [
  {
   "cell_type": "code",
   "execution_count": 1,
   "metadata": {},
   "outputs": [],
   "source": [
    "import pandas as pd\n",
    "import numpy as np\n",
    "import matplotlib.pyplot as plt\n",
    "import casadi\n",
    "import os\n",
    "import statsmodels.formula.api as smf\n",
    "from functions import generic"
   ]
  },
  {
   "cell_type": "markdown",
   "metadata": {},
   "source": [
    "# Yearly data"
   ]
  },
  {
   "cell_type": "markdown",
   "metadata": {},
   "source": [
    "### Maine prices, load, and temperature"
   ]
  },
  {
   "cell_type": "code",
   "execution_count": 2,
   "metadata": {},
   "outputs": [
    {
     "data": {
      "text/html": [
       "<div>\n",
       "<style scoped>\n",
       "    .dataframe tbody tr th:only-of-type {\n",
       "        vertical-align: middle;\n",
       "    }\n",
       "\n",
       "    .dataframe tbody tr th {\n",
       "        vertical-align: top;\n",
       "    }\n",
       "\n",
       "    .dataframe thead th {\n",
       "        text-align: right;\n",
       "    }\n",
       "</style>\n",
       "<table border=\"1\" class=\"dataframe\">\n",
       "  <thead>\n",
       "    <tr style=\"text-align: right;\">\n",
       "      <th></th>\n",
       "      <th>elec</th>\n",
       "      <th>load</th>\n",
       "      <th>T_OA</th>\n",
       "    </tr>\n",
       "  </thead>\n",
       "  <tbody>\n",
       "    <tr>\n",
       "      <th>2022-01-01 00:00:00</th>\n",
       "      <td>69.39</td>\n",
       "      <td>4.728</td>\n",
       "      <td>-3.89</td>\n",
       "    </tr>\n",
       "    <tr>\n",
       "      <th>2022-01-01 01:00:00</th>\n",
       "      <td>64.75</td>\n",
       "      <td>4.616</td>\n",
       "      <td>-3.33</td>\n",
       "    </tr>\n",
       "    <tr>\n",
       "      <th>2022-01-01 02:00:00</th>\n",
       "      <td>63.84</td>\n",
       "      <td>4.536</td>\n",
       "      <td>-2.78</td>\n",
       "    </tr>\n",
       "    <tr>\n",
       "      <th>2022-01-01 03:00:00</th>\n",
       "      <td>63.31</td>\n",
       "      <td>4.616</td>\n",
       "      <td>-3.33</td>\n",
       "    </tr>\n",
       "    <tr>\n",
       "      <th>2022-01-01 04:00:00</th>\n",
       "      <td>63.17</td>\n",
       "      <td>4.568</td>\n",
       "      <td>-3.33</td>\n",
       "    </tr>\n",
       "  </tbody>\n",
       "</table>\n",
       "</div>"
      ],
      "text/plain": [
       "                      elec   load  T_OA\n",
       "2022-01-01 00:00:00  69.39  4.728 -3.89\n",
       "2022-01-01 01:00:00  64.75  4.616 -3.33\n",
       "2022-01-01 02:00:00  63.84  4.536 -2.78\n",
       "2022-01-01 03:00:00  63.31  4.616 -3.33\n",
       "2022-01-01 04:00:00  63.17  4.568 -3.33"
      ]
     },
     "execution_count": 2,
     "metadata": {},
     "output_type": "execute_result"
    }
   ],
   "source": [
    "df = pd.read_excel(os.getcwd()+'/data/gridworks_yearly_data.xlsx', header=3, index_col = 0)\n",
    "df.index = pd.to_datetime(df.index)\n",
    "df.index.name = None\n",
    "df['elec'] = df['Total Delivered Energy Cost ($/MWh)']\n",
    "df['load'] = df['House Power Required AvgKw'] *0.8\n",
    "df['T_OA'] = df['Outside Temp F']\n",
    "df['T_OA'] = df['T_OA'].apply(lambda x: round(5/9 * (x-32),2))\n",
    "df = df[['elec', 'load', 'T_OA']]\n",
    "df.head()"
   ]
  },
  {
   "cell_type": "markdown",
   "metadata": {},
   "source": [
    "### CalFlexHub prices"
   ]
  },
  {
   "cell_type": "code",
   "execution_count": 3,
   "metadata": {},
   "outputs": [],
   "source": [
    "CFH_prices = {\n",
    "    'WinterHDP': [0.1718, 0.1445, 0.0202, 0.011, 0.0331, 0.11, 0.2672, 0.3077, 0.2163, 0.1584, \n",
    "                  0.1264, 0.1047, 0.1318, 0.1835, 0.2485, 0.3123, 0.3961, 0.5254, 0.4974, 0.4525, \n",
    "                  0.3918, 0.3113, 0.1998, 0.1106], \n",
    "    'SpringHDP': [0.1714, 0.144, 0.1385, 0.1518, 0.1829, 0.2713, 0.4659, 0.5328, 0.28, 0.1158, \n",
    "                  0.0398, 0.0196, 0.011, 0.0188, 0.0255, 0.0632, 0.0957, 0.2358, 0.4931, 0.6618, \n",
    "                  0.5364, 0.4116, 0.2905, 0.2209], \n",
    "    'SummerHDP': [0.0864, 0.0587, 0.0385, 0.0246, 0.0165, 0.0215, 0.0359, 0.0206, 0.0106, 0.0192, \n",
    "                  0.0309, 0.0612, 0.0925, 0.1244, 0.1667, 0.2148, 0.3563, 0.4893, 0.7098, 0.7882, \n",
    "                  0.5586, 0.3326, 0.2152, 0.1487], \n",
    "    'FallHDP': [0.2052, 0.1284, 0.0792, 0.0531, 0.0551, 0.1193, 0.2737, 0.27, 0.0916, 0.011, 0.0389, \n",
    "                0.0238, 0.0366, 0.0611, 0.0998, 0.1888, 0.3046, 0.5198, 0.7248, 0.6936, 0.4961, 0.3569, \n",
    "                0.1822, 0.0413]\n",
    " }\n",
    "\n",
    "yearly_elecs = []\n",
    "for j in range(1,13):\n",
    "    if j==1: yearly_elecs.extend(CFH_prices['WinterHDP']*31)\n",
    "    if j==2: yearly_elecs.extend(CFH_prices['WinterHDP']*28)\n",
    "    if j==3: yearly_elecs.extend(CFH_prices['SpringHDP']*31)\n",
    "    if j==4: yearly_elecs.extend(CFH_prices['SpringHDP']*30)\n",
    "    if j==5: yearly_elecs.extend(CFH_prices['SpringHDP']*31)\n",
    "    if j==6: yearly_elecs.extend(CFH_prices['SummerHDP']*30)\n",
    "    if j==7: yearly_elecs.extend(CFH_prices['SummerHDP']*31)\n",
    "    if j==8: yearly_elecs.extend(CFH_prices['SummerHDP']*31)\n",
    "    if j==9: yearly_elecs.extend(CFH_prices['FallHDP']*30)\n",
    "    if j==10: yearly_elecs.extend(CFH_prices['FallHDP']*31)\n",
    "    if j==11: yearly_elecs.extend(CFH_prices['FallHDP']*30)\n",
    "    if j==12: yearly_elecs.extend(CFH_prices['WinterHDP']*31)"
   ]
  },
  {
   "cell_type": "markdown",
   "metadata": {},
   "source": [
    "### Edison retail prices"
   ]
  },
  {
   "cell_type": "code",
   "execution_count": 4,
   "metadata": {},
   "outputs": [],
   "source": [
    "summer_week = ([0.37]*17 + [0.75]*3 + [0.37]*4)*5 + ([0.37]*17 + [0.56]*3 + [0.37]*4)*2\n",
    "winter_week = ([0.4]*8 + [0.35]*9 + [0.62]*3 + [0.4]*4)*7\n",
    "edison_yearly = winter_week*22 + summer_week*18 + winter_week*12 + winter_week[:24]\n",
    "edison_yearly = edison_yearly*2"
   ]
  },
  {
   "cell_type": "markdown",
   "metadata": {},
   "source": [
    "### COP estimation as a function of temperature"
   ]
  },
  {
   "cell_type": "code",
   "execution_count": 5,
   "metadata": {},
   "outputs": [],
   "source": [
    "# Get COP regression as a function of T_OA\n",
    "T_OA_table = list(range(-15,40,5))\n",
    "COP_table = 1.7,2.3,2.3,2.43,2.63,2.78,3.36,3.79,3.99,4.12,5.10\n",
    "COP_df = pd.DataFrame({'temp':T_OA_table,'cop':COP_table})\n",
    "mod = smf.ols(formula='cop ~ temp', data=COP_df)\n",
    "np.random.seed(2) \n",
    "res = mod.fit()\n",
    "\n",
    "def COP(T_OA):\n",
    "    return round(res.params.Intercept+T_OA*res.params.temp,2)"
   ]
  },
  {
   "cell_type": "markdown",
   "metadata": {},
   "source": [
    "# Estimated CAPEX ($/year)"
   ]
  },
  {
   "cell_type": "code",
   "execution_count": 6,
   "metadata": {},
   "outputs": [
    {
     "data": {
      "image/png": "[encoded data removed]",
      "text/plain": [
       "<Figure size 1200x400 with 2 Axes>"
      ]
     },
     "metadata": {},
     "output_type": "display_data"
    }
   ],
   "source": [
    "# HP prices\n",
    "A_hp = [5, 8, 12, 16]\n",
    "C_hp = [1984, 2235, 3257, 3616]\n",
    "C_polyfit_hp = np.polyfit(A_hp, C_hp, 2)\n",
    "\n",
    "# PCM prices\n",
    "A_pcm = [6, 9, 12]\n",
    "C_pcm = [2416, 2857, 3297]\n",
    "C_pcm = [x/2 for x in C_pcm]\n",
    "C_polyfit_pcm = np.polyfit(A_pcm, C_pcm, 2)\n",
    "\n",
    "# Plot\n",
    "prices_hp = [np.polyval(C_polyfit_hp, x) for x in range(2,30)]\n",
    "prices_pcm = [np.polyval(C_polyfit_pcm, x) for x in range(2,30)]\n",
    "fig, axes = plt.subplots(1, 2, figsize=(12, 4))\n",
    "axes[0].plot(range(2,30), prices_hp, label='Approximated prices', linestyle='dashed')\n",
    "axes[0].scatter(A_hp, C_hp, label='Reference HP prices')\n",
    "axes[0].set_xlabel(\"Heat pump thermal power (kW)\")\n",
    "axes[0].set_ylabel(\"Price ($)\")\n",
    "axes[0].set_title('Estimating heat pump prices')\n",
    "axes[0].legend(loc='upper left')\n",
    "axes[1].plot(range(2,30), prices_pcm, label='Approximated prices', linestyle='dashed')\n",
    "axes[1].scatter(A_pcm, C_pcm, label='Reference PCM prices')\n",
    "axes[1].set_xlabel(\"Storage capacity (kWh)\")\n",
    "axes[1].set_title('Estimating PCM TES prices')\n",
    "axes[1].legend()\n",
    "#plt.savefig('capex_subplots.jpg', dpi=300)\n",
    "plt.show()"
   ]
  },
  {
   "cell_type": "code",
   "execution_count": 7,
   "metadata": {},
   "outputs": [],
   "source": [
    "def estimated_capex(storage_size, heatpump_size, lifetime):\n",
    "    \n",
    "    capex_HP = np.polyval(C_polyfit_hp, heatpump_size)\n",
    "    capex_TES = np.polyval(C_polyfit_pcm, storage_size)\n",
    "\n",
    "    capex = capex_HP + capex_TES\n",
    "    capex_yearly = capex / lifetime\n",
    "\n",
    "    return round(capex_yearly,3)"
   ]
  },
  {
   "cell_type": "markdown",
   "metadata": {},
   "source": [
    "# Optimal OPEX ($/horizon)"
   ]
  },
  {
   "cell_type": "code",
   "execution_count": 8,
   "metadata": {},
   "outputs": [],
   "source": [
    "def optimal_opex(max_storage, max_Q_HP, forecasts, PLOT):\n",
    "\n",
    "    # Unpack forecasts and get parameters\n",
    "    N = forecasts['horizon']\n",
    "    elec = forecasts['elec']\n",
    "    load = forecasts['load']\n",
    "    COP_list = [COP(T) for T in forecasts['T_OA']]\n",
    "    min_Q_HP = max_Q_HP*0.2\n",
    "\n",
    "    # Initialize    \n",
    "    opti = casadi.Opti('conic')\n",
    " \n",
    "    # -----------------------------\n",
    "    # Variables and solver\n",
    "    # -----------------------------\n",
    "    \n",
    "    Q_stor = opti.variable(1,N+1)   # state\n",
    "    Q_HP = opti.variable(1,N)       # input\n",
    "    delta_HP = opti.variable(1,N)   # input\n",
    "    Q_HP_onoff = opti.variable(1,N) # input (derived)\n",
    "    \n",
    "    # delta_HP is a discrete variable (binary)\n",
    "    discrete_var = [0]*(N+1) + [0]*N + [1]*N + [0]*N\n",
    "\n",
    "    # Solver\n",
    "    solver_opts = {'discrete':discrete_var, 'gurobi.OutputFlag':0}\n",
    "    opti.solver('gurobi', solver_opts)\n",
    "    \n",
    "    # -----------------------------\n",
    "    # Constraints\n",
    "    # -----------------------------\n",
    "    \n",
    "    # Initial Q_stor level\n",
    "    opti.subject_to(Q_stor[0] == 0)\n",
    "\n",
    "    # Constraints at every time step\n",
    "    for t in range(N+1):\n",
    "\n",
    "        # Bounds on storage\n",
    "        opti.subject_to(Q_stor[t] >= 0)\n",
    "        opti.subject_to(Q_stor[t] <= max_storage)\n",
    "\n",
    "        if t < N:\n",
    "            \n",
    "            # System dynamics\n",
    "            opti.subject_to(Q_stor[t+1] == Q_stor[t] + Q_HP_onoff[t] - load[t])\n",
    "    \n",
    "            # Bounds on delta_HP\n",
    "            opti.subject_to(delta_HP[t] >= 0)\n",
    "            opti.subject_to(delta_HP[t] <= 1)\n",
    "        \n",
    "            # Bounds on Q_HP\n",
    "            opti.subject_to(Q_HP[t] <= max_Q_HP)    \n",
    "            opti.subject_to(Q_HP[t] >= min_Q_HP*delta_HP[t])\n",
    "        \n",
    "            # Bilinear to linear\n",
    "            opti.subject_to(Q_HP_onoff[t] <= max_Q_HP*delta_HP[t])\n",
    "            opti.subject_to(Q_HP_onoff[t] >= min_Q_HP*delta_HP[t])\n",
    "            opti.subject_to(Q_HP_onoff[t] <= Q_HP[t] + min_Q_HP*(delta_HP[t]-1))\n",
    "            opti.subject_to(Q_HP_onoff[t] >= Q_HP[t] + max_Q_HP*(delta_HP[t]-1))\n",
    "    \n",
    "    # -----------------------------\n",
    "    # Objective\n",
    "    # -----------------------------\n",
    "    \n",
    "    obj = sum(Q_HP_onoff[t]*elec[t]/COP_list[t] for t in range(N))\n",
    "    opti.minimize(obj)\n",
    "\n",
    "    # -----------------------------\n",
    "    # Solve and get optimal values\n",
    "    # -----------------------------\n",
    "\n",
    "    sol = opti.solve()\n",
    "\n",
    "    Q_opt = sol.value(Q_HP_onoff)\n",
    "    stor_opt = sol.value(Q_stor)\n",
    "    obj_opt = round(sol.value(obj),3)\n",
    "\n",
    "    if PLOT:\n",
    "        fig, ax = plt.subplots(1,1, figsize=(13,4))\n",
    "        ax2 = ax.twinx()\n",
    "        ax2.step(range(N), elec, where='post', color='gray', alpha=0.2)\n",
    "        ax.step(range(N), Q_opt, where='post', color='blue', alpha=0.6)\n",
    "        ax.step(range(N), load, where='post', color='red', alpha=0.6)\n",
    "        ax.plot(stor_opt, color='orange', alpha=0.6)\n",
    "        plt.show()\n",
    "\n",
    "    return obj_opt"
   ]
  },
  {
   "cell_type": "markdown",
   "metadata": {},
   "source": [
    "# TOTEX ($/year)"
   ]
  },
  {
   "cell_type": "code",
   "execution_count": 9,
   "metadata": {},
   "outputs": [],
   "source": [
    "def yearly_totex(storage_size, heatpump_size, lifetime, forecasts, PLOT):\n",
    "\n",
    "    try:\n",
    "        capex = estimated_capex(storage_size, heatpump_size, lifetime)\n",
    "        opex = optimal_opex(storage_size, heatpump_size, forecasts, PLOT)\n",
    "        totex = capex + opex\n",
    "\n",
    "        if PLOT:\n",
    "            print(f'CAPEX = {capex} $/year')\n",
    "            print(f'OPEX = {opex} $/horizon')\n",
    "\n",
    "        print(f'TOTEX = {totex} $/horizon')\n",
    "        \n",
    "    except Exception as e:\n",
    "        return np.nan\n",
    "\n",
    "    return totex"
   ]
  },
  {
   "cell_type": "markdown",
   "metadata": {},
   "source": [
    "#### Examples"
   ]
  },
  {
   "cell_type": "code",
   "execution_count": 10,
   "metadata": {},
   "outputs": [],
   "source": [
    "# Equipment lifetime, in years\n",
    "lifetime = 20\n",
    "\n",
    "# 24 hour simulation\n",
    "forecasts = {\n",
    "    'horizon': 24,\n",
    "    'elec': yearly_elecs[:24],\n",
    "    'load': list(df.load)[:24],\n",
    "    'T_OA': list(df.T_OA)[:24],\n",
    "    }\n",
    "\n",
    "#yearly_totex(42, 12, lifetime, forecasts, True)\n",
    "\n",
    "# Yearly simulation\n",
    "forecasts = {\n",
    "    'horizon': len(df),\n",
    "    'elec': yearly_elecs,\n",
    "    'load': list(df.load),\n",
    "    'T_OA': list(df.T_OA),\n",
    "    }\n",
    "\n",
    "#totex = yearly_totex(20, 12, lifetime, forecasts, True)\n",
    "#totex = yearly_totex(50, 12, lifetime, forecasts, True)"
   ]
  },
  {
   "cell_type": "markdown",
   "metadata": {},
   "source": [
    "# Sizing"
   ]
  },
  {
   "cell_type": "code",
   "execution_count": 11,
   "metadata": {},
   "outputs": [],
   "source": [
    "# Create a grid of equipment sizes\n",
    "storage_range = np.linspace(20, 90, 6)\n",
    "heatpump_range = np.linspace(5, 35, 6)\n",
    "storage_grid, heatpump_grid = np.meshgrid(storage_range, heatpump_range)\n",
    "\n",
    "# Get the TOTEX for all combinations in the grid\n",
    "#totex_values = np.vectorize(yearly_totex, excluded=['lifetime', 'forecasts', 'PLOT'])(storage_grid, heatpump_grid, lifetime, forecasts, False)\n",
    "#print(totex_values)"
   ]
  },
  {
   "cell_type": "code",
   "execution_count": 12,
   "metadata": {},
   "outputs": [
    {
     "data": {
      "text/plain": [
       "\"\\n# Find the minimum\\nmin_index = np.unravel_index(np.nanargmin(totex_values), totex_values.shape)\\nmin_storage_value = storage_grid[min_index]\\nmin_heatpump_value = heatpump_grid[min_index]\\n\\n# Plot\\nfig = plt.figure(figsize=(10,8))\\nax = fig.add_subplot(projection='3d')\\nsurface = ax.plot_surface(storage_grid, heatpump_grid, totex_values, cmap='viridis', alpha=0.7)\\nax.scatter(min_storage_value, min_heatpump_value, totex_values[min_index], color='red', s=100)\\nax.set_title(f'Lowest total cost reached for\\nHeat pump: {round(min_heatpump_value)} kW, Storage: {round(min_storage_value)} kWh')\\nax.set_xlabel('Storage capacity [kWh]')\\nax.set_ylabel('Heat pump capacity [kWh]')\\nax.set_zlabel('Cost')\\nax.set_zticks([])\\nplt.show()\\n\""
      ]
     },
     "execution_count": 12,
     "metadata": {},
     "output_type": "execute_result"
    }
   ],
   "source": [
    "'''\n",
    "# Find the minimum\n",
    "min_index = np.unravel_index(np.nanargmin(totex_values), totex_values.shape)\n",
    "min_storage_value = storage_grid[min_index]\n",
    "min_heatpump_value = heatpump_grid[min_index]\n",
    "\n",
    "# Plot\n",
    "fig = plt.figure(figsize=(10,8))\n",
    "ax = fig.add_subplot(projection='3d')\n",
    "surface = ax.plot_surface(storage_grid, heatpump_grid, totex_values, cmap='viridis', alpha=0.7)\n",
    "ax.scatter(min_storage_value, min_heatpump_value, totex_values[min_index], color='red', s=100)\n",
    "ax.set_title(f'Lowest total cost reached for\\nHeat pump: {round(min_heatpump_value)} kW, Storage: {round(min_storage_value)} kWh')\n",
    "ax.set_xlabel('Storage capacity [kWh]')\n",
    "ax.set_ylabel('Heat pump capacity [kWh]')\n",
    "ax.set_zlabel('Cost')\n",
    "ax.set_zticks([])\n",
    "plt.show()\n",
    "'''"
   ]
  },
  {
   "cell_type": "markdown",
   "metadata": {},
   "source": [
    "# PARETO"
   ]
  },
  {
   "cell_type": "markdown",
   "metadata": {},
   "source": [
    "### Elec: CFH, Load: Maine 80%"
   ]
  },
  {
   "cell_type": "code",
   "execution_count": 13,
   "metadata": {},
   "outputs": [
    {
     "name": "stderr",
     "output_type": "stream",
     "text": [
      "/var/folders/c3/d3fq0hlj3j7gpdh35ylfyy1h0000gp/T/ipykernel_6475/3378886184.py:7: FutureWarning: Series.__getitem__ treating keys as positions is deprecated. In a future version, integer keys will always be treated as labels (consistent with DataFrame behavior). To access a value by position, use `ser.iloc[pos]`\n",
      "  if df.load[i] > 0:\n",
      "/var/folders/c3/d3fq0hlj3j7gpdh35ylfyy1h0000gp/T/ipykernel_6475/3378886184.py:8: FutureWarning: Series.__getitem__ treating keys as positions is deprecated. In a future version, integer keys will always be treated as labels (consistent with DataFrame behavior). To access a value by position, use `ser.iloc[pos]`\n",
      "  noisy_load.append(noise[count] + df.load[i])\n"
     ]
    },
    {
     "data": {
      "image/png": "[encoded data removed]",
      "text/plain": [
       "<Figure size 640x480 with 1 Axes>"
      ]
     },
     "metadata": {},
     "output_type": "display_data"
    }
   ],
   "source": [
    "# Adding noise\n",
    "noise = np.random.normal(loc=0, scale=1, size=len(df[df.load>0].load))\n",
    "\n",
    "noisy_load = []\n",
    "count = 0\n",
    "for i in range(len(df.load)):\n",
    "    if df.load[i] > 0:\n",
    "        noisy_load.append(noise[count] + df.load[i])\n",
    "        count += 1\n",
    "    else:\n",
    "        noisy_load.append(0)\n",
    "\n",
    "plt.plot(list(df.load)[:250], alpha=0.5)\n",
    "plt.plot(noisy_load[:250], alpha=0.5)\n",
    "plt.show()"
   ]
  },
  {
   "cell_type": "code",
   "execution_count": 14,
   "metadata": {},
   "outputs": [],
   "source": [
    "from functions import get_storage\n",
    "\n",
    "# Extend lists for when the horizon goes into the second year\n",
    "yearly_elecs = yearly_elecs*2\n",
    "df = pd.concat([df, df], ignore_index=True)\n",
    "\n",
    "def pareto_opex(storage_size, heatpump_size):\n",
    "    PRINT = False\n",
    "\n",
    "    soc = 0\n",
    "    total_cost = 0\n",
    "    daily_cost = 0\n",
    "    control_final = []\n",
    "    load_not_satisfied = []\n",
    "\n",
    "    for hour in range(24*365):\n",
    "\n",
    "        parameters = { \n",
    "            'horizon': 24,\n",
    "\n",
    "            'elec_costs': yearly_elecs[hour:hour+24],\n",
    "        \n",
    "            'load': {'type': 'hourly', \n",
    "                    'value': [x for x in list(df.load[hour:hour+24])]},\n",
    "\n",
    "            'control': {'type': 'range',\n",
    "                        'max': [heatpump_size]*24,\n",
    "                        'min': [0.2*heatpump_size]*24},\n",
    "            \n",
    "            'constraints': {'storage_capacity': True,\n",
    "                            'max_storage': storage_size,\n",
    "                            'initial_soc': soc,\n",
    "                            'cheaper_hours': True,\n",
    "                            'quiet_hours': False\n",
    "                            },\n",
    "\n",
    "            'hardware': {'heatpump': True,\n",
    "                         'COP': [COP(T) for T in list(df.T_OA[hour:hour+24])]}\n",
    "        }\n",
    "\n",
    "        control = generic(parameters)\n",
    "        storage = get_storage(control, parameters)\n",
    "\n",
    "        # Adjust storage to what really happened\n",
    "        storage[1] = storage[0] + control[0] - df.load[hour]\n",
    "        # Add noise to load <=> add noise to stor_1 = stor_0 + Q_HP_0 - load_0\n",
    "        if df.load[hour] > 0: \n",
    "            storage[1] += df.load[hour] - noisy_load[hour]\n",
    "        # The storage going negative is the amount of load not satisfied!\n",
    "        if storage[1] >=0:\n",
    "            load_not_satisfied.append(0)\n",
    "        else:\n",
    "            load_not_satisfied.append(storage[1])\n",
    "\n",
    "        soc = storage[1] if storage[1]<storage_size else storage_size\n",
    "        soc = storage[1] if storage[1]>0 else 0\n",
    "\n",
    "        cost = control[0] * parameters['elec_costs'][0] / parameters['hardware']['COP'][0]\n",
    "        total_cost += cost\n",
    "        daily_cost += cost\n",
    "        control_final.append(control[0])\n",
    "\n",
    "        if hour%24 == 0 and hour>0:\n",
    "            print(f'Day {round(hour/24)-1}, cost {round(daily_cost,3)}')\n",
    "            daily_cost = 0\n",
    "\n",
    "        if PRINT:\n",
    "            print(f'Hour {hour}, cost {round(cost,3)}, soc {round(soc,2)}, control {control[0]}')\n",
    "\n",
    "\n",
    "    return round(total_cost,2), load_not_satisfied\n"
   ]
  },
  {
   "cell_type": "code",
   "execution_count": 15,
   "metadata": {},
   "outputs": [],
   "source": [
    "def yearly_totex(storage_size, heatpump_size, lifetime):\n",
    "\n",
    "    capex = estimated_capex(storage_size, heatpump_size, lifetime)\n",
    "    opex, not_satisfied, elec = pareto_opex(storage_size, heatpump_size)\n",
    "    totex = capex + opex*100\n",
    "\n",
    "    print(f'\\nCAPEX = {capex} $/year')\n",
    "    print(f'OPEX = {opex} $/year')\n",
    "    print(f'\\nTOTEX = {round(capex+opex,3)} $/year')\n",
    "\n",
    "    print(f'Average:{opex/120}')\n",
    "    print(f'Average:{elec/120}')\n",
    "\n",
    "    return not_satisfied"
   ]
  },
  {
   "cell_type": "code",
   "execution_count": 16,
   "metadata": {},
   "outputs": [],
   "source": [
    "#not_satisfied = yearly_totex(28, 12, 20)"
   ]
  },
  {
   "cell_type": "code",
   "execution_count": 17,
   "metadata": {},
   "outputs": [],
   "source": [
    "#plt.plot(not_satisfied)\n",
    "#plt.show()"
   ]
  },
  {
   "cell_type": "code",
   "execution_count": 18,
   "metadata": {},
   "outputs": [],
   "source": [
    "#nozeros = [x for x in not_satisfied if x<0]\n",
    "\n",
    "#print(f'Number of hours where load is not satisfied: {len(nozeros)} hours')\n",
    "#print(f'Median discomfort: {round(np.median(nozeros),3)}')\n",
    "#print(f'Total discomfort: {round(sum(nozeros),3)}')"
   ]
  },
  {
   "cell_type": "markdown",
   "metadata": {},
   "source": [
    "### Elec: Maine, Load: Maine 80%"
   ]
  },
  {
   "cell_type": "code",
   "execution_count": 19,
   "metadata": {},
   "outputs": [],
   "source": [
    "CFH_prices = [0.1714, 0.144, 0.1385, 0.1518, 0.1829, 0.2713, 0.4659, 0.5328, 0.28, 0.1158,\n",
    "              0.0398, 0.0196, 0.011, 0.0188, 0.0255, 0.0632, 0.0957, 0.2358, 0.4931, 0.6618, \n",
    "              0.5364, 0.4116, 0.2905, 0.2209]*300\n",
    "CFH_prices = [x*1000 for x in CFH_prices]"
   ]
  },
  {
   "cell_type": "code",
   "execution_count": 27,
   "metadata": {},
   "outputs": [],
   "source": [
    "from functions import get_storage\n",
    "\n",
    "yearly_elecs = yearly_elecs*2\n",
    "df = pd.concat([df, df], ignore_index=True)\n",
    "\n",
    "def pareto_opex(storage_size, heatpump_size):\n",
    "    PRINT = False\n",
    "\n",
    "    soc = 0\n",
    "    total_elec = 0\n",
    "    total_cost = 0\n",
    "    daily_cost = 0\n",
    "    control_final = []\n",
    "\n",
    "    for hour in range(120*24):\n",
    "\n",
    "        parameters = { \n",
    "            'horizon': 24,\n",
    "\n",
    "            'elec_costs': CFH_prices[hour:hour+24],\n",
    "        \n",
    "            'load': {'type': 'hourly', \n",
    "                    'value': list(df.load[hour:hour+24])},\n",
    "\n",
    "            'control': {'type': 'range',\n",
    "                        'max': [heatpump_size]*24,\n",
    "                        'min': [0.2*heatpump_size]*24},\n",
    "            \n",
    "            'constraints': {'storage_capacity': True,\n",
    "                            'max_storage': storage_size,\n",
    "                            'initial_soc': soc,\n",
    "                            'cheaper_hours': True,\n",
    "                            'quiet_hours': False\n",
    "                            },\n",
    "\n",
    "            'hardware': {'heatpump': True,\n",
    "                         'COP': [COP(T) for T in list(df.T_OA[hour:hour+24])]}\n",
    "        }\n",
    "\n",
    "        control = generic(parameters)\n",
    "        storage = get_storage(control, parameters)\n",
    "        soc = storage[1] if storage[1]<storage_size else storage_size\n",
    "\n",
    "        cost = control[0] * parameters['elec_costs'][0] / parameters['hardware']['COP'][0]\n",
    "        total_cost += cost\n",
    "        total_elec += control[0] / parameters['hardware']['COP'][0]\n",
    "        daily_cost += cost\n",
    "        control_final.append(control[0])\n",
    "\n",
    "        if hour%24 == 0 and hour>0:\n",
    "            print(f'Day {round(hour/24)-1}, cost {round(daily_cost/1000,3)}')\n",
    "            daily_cost = 0\n",
    "\n",
    "        if PRINT:\n",
    "            print(f'Hour {hour}, cost {round(cost,3)}, soc {round(soc,2)}, control {control[0]}')\n",
    "\n",
    "    return round(total_cost/1000,2), 0, total_elec"
   ]
  },
  {
   "cell_type": "code",
   "execution_count": 28,
   "metadata": {},
   "outputs": [
    {
     "name": "stdout",
     "output_type": "stream",
     "text": [
      "Day 0, cost 6.44\n",
      "Day 1, cost 5.281\n",
      "Day 2, cost 4.274\n",
      "Day 3, cost 5.057\n",
      "Day 4, cost 7.964\n",
      "Day 5, cost 11.208\n",
      "Day 6, cost 12.698\n",
      "Day 7, cost 8.709\n",
      "Day 8, cost 12.827\n",
      "Day 9, cost 8.405\n",
      "Day 10, cost 3.554\n",
      "Day 11, cost 8.635\n",
      "Day 12, cost 11.794\n",
      "Day 13, cost 10.069\n",
      "Day 14, cost 7.426\n",
      "Day 15, cost 8.314\n",
      "Day 16, cost 19.929\n",
      "Day 17, cost 18.513\n",
      "Day 18, cost 13.428\n",
      "Day 19, cost 14.088\n",
      "Day 20, cost 16.316\n",
      "Day 21, cost 9.908\n",
      "Day 22, cost 6.169\n",
      "Day 23, cost 6.105\n",
      "Day 24, cost 5.669\n",
      "Day 25, cost 4.642\n",
      "Day 26, cost 5.019\n",
      "Day 27, cost 8.279\n",
      "Day 28, cost 11.596\n",
      "Day 29, cost 12.014\n",
      "Day 30, cost 11.695\n",
      "Day 31, cost 7.458\n",
      "Day 32, cost 6.989\n",
      "Day 33, cost 5.495\n",
      "Day 34, cost 5.974\n",
      "Day 35, cost 9.797\n",
      "Day 36, cost 10.287\n",
      "Day 37, cost 8.917\n",
      "Day 38, cost 15.997\n",
      "Day 39, cost 14.773\n",
      "Day 40, cost 8.149\n",
      "Day 41, cost 8.161\n",
      "Day 42, cost 6.673\n",
      "Day 43, cost 9.362\n",
      "Day 44, cost 22.547\n",
      "Day 45, cost 18.619\n",
      "Day 46, cost 8.492\n",
      "Day 47, cost 11.544\n",
      "Day 48, cost 15.027\n",
      "Day 49, cost 9.222\n",
      "Day 50, cost 19.237\n",
      "Day 51, cost 14.763\n",
      "Day 52, cost 10.617\n",
      "Day 53, cost 7.216\n",
      "Day 54, cost 6.965\n",
      "Day 55, cost 5.005\n",
      "Day 56, cost 4.448\n",
      "Day 57, cost 6.024\n",
      "Day 58, cost 9.674\n",
      "Day 59, cost 14.051\n",
      "Day 60, cost 11.675\n",
      "Day 61, cost 10.287\n",
      "Day 62, cost 4.214\n",
      "Day 63, cost 4.433\n",
      "Day 64, cost 5.71\n",
      "Day 65, cost 7.517\n",
      "Day 66, cost 8.469\n",
      "Day 67, cost 5.14\n",
      "Day 68, cost 5.733\n",
      "Day 69, cost 5.006\n",
      "Day 70, cost 5.595\n",
      "Day 71, cost 7.902\n",
      "Day 72, cost 4.822\n",
      "Day 73, cost 5.086\n",
      "Day 74, cost 8.864\n",
      "Day 75, cost 9.87\n",
      "Day 76, cost 5.831\n",
      "Day 77, cost 6.882\n",
      "Day 78, cost 5.304\n",
      "Day 79, cost 3.44\n",
      "Day 80, cost 7.446\n",
      "Day 81, cost 10.946\n",
      "Day 82, cost 9.415\n",
      "Day 83, cost 5.544\n",
      "Day 84, cost 5.581\n",
      "Day 85, cost 4.843\n",
      "Day 86, cost 4.413\n",
      "Day 87, cost 4.737\n",
      "Day 88, cost 4.322\n",
      "Day 89, cost 5.404\n",
      "Day 90, cost 5.104\n",
      "Day 91, cost 4.379\n",
      "Day 92, cost 3.154\n",
      "Day 93, cost 3.143\n",
      "Day 94, cost 3.354\n",
      "Day 95, cost 2.782\n",
      "Day 96, cost 3.209\n",
      "Day 97, cost 5.216\n",
      "Day 98, cost 5.36\n",
      "Day 99, cost 5.441\n",
      "Day 100, cost 5.281\n",
      "Day 101, cost 5.036\n",
      "Day 102, cost 3.646\n",
      "Day 103, cost 2.183\n",
      "Day 104, cost 3.07\n",
      "Day 105, cost 4.367\n",
      "Day 106, cost 5.094\n",
      "Day 107, cost 5.547\n",
      "Day 108, cost 5.593\n",
      "Day 109, cost 3.209\n",
      "Day 110, cost 4.301\n",
      "Day 111, cost 5.397\n",
      "Day 112, cost 6.149\n",
      "Day 113, cost 5.138\n",
      "Day 114, cost 3.599\n",
      "Day 115, cost 3.565\n",
      "Day 116, cost 2.448\n",
      "Day 117, cost 2.703\n",
      "Day 118, cost 2.299\n",
      "\n",
      "CAPEX = 217.468 $/year\n",
      "OPEX = 913.56 $/year\n",
      "\n",
      "TOTEX = 1131.028 $/year\n",
      "Average:7.6129999999999995\n",
      "Average:47.094135768018425\n"
     ]
    },
    {
     "data": {
      "text/plain": [
       "0"
      ]
     },
     "execution_count": 28,
     "metadata": {},
     "output_type": "execute_result"
    }
   ],
   "source": [
    "yearly_totex(10.3, 10.35, 20)"
   ]
  },
  {
   "cell_type": "markdown",
   "metadata": {},
   "source": [
    "# No storage / load shifting yearly OPEX"
   ]
  },
  {
   "cell_type": "code",
   "execution_count": 22,
   "metadata": {},
   "outputs": [
    {
     "name": "stdout",
     "output_type": "stream",
     "text": [
      "1618.5344142083002\n"
     ]
    }
   ],
   "source": [
    "COP_yearly = [COP(T) for T in list(df.T_OA)]\n",
    "prices = [df.elec[i]*df.load[i]/COP_yearly[i] for i in range(8760)]\n",
    "print(sum(prices)/1000 + 207)"
   ]
  }
 ],
 "metadata": {
  "kernelspec": {
   "display_name": "Python 3 (ipykernel)",
   "language": "python",
   "name": "python3"
  },
  "language_info": {
   "codemirror_mode": {
    "name": "ipython",
    "version": 3
   },
   "file_extension": ".py",
   "mimetype": "text/x-python",
   "name": "python",
   "nbconvert_exporter": "python",
   "pygments_lexer": "ipython3",
   "version": "3.11.9"
  }
 },
 "nbformat": 4,
 "nbformat_minor": 4
}
